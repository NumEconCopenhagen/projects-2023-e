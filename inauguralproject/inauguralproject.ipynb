{
 "cells": [
  {
   "cell_type": "markdown",
   "metadata": {},
   "source": [
    "# Inaugural Project"
   ]
  },
  {
   "cell_type": "markdown",
   "metadata": {},
   "source": [
    "> **Note the following:** \n",
    "> 1. This is an example of how to structure your **inaugural project**.\n",
    "> 1. Remember the general advice on structuring and commenting your code\n",
    "> 1. The `inauguralproject.py` file includes a function which can be used multiple times in this notebook."
   ]
  },
  {
   "cell_type": "markdown",
   "metadata": {},
   "source": [
    "Imports and set magics:"
   ]
  },
  {
   "cell_type": "code",
   "execution_count": 1,
   "metadata": {},
   "outputs": [],
   "source": [
    "import pandas as pd\n",
    "import matplotlib.pyplot as plt\n",
    "import numpy as np\n",
    "import seaborn as sns\n",
    "from scipy import optimize\n",
    "from inauguralproject import HouseholdSpecializationModelClass\n",
    "from types import SimpleNamespace\n",
    "import seaborn as sns # import seaborn\n",
    "import matplotlib.pyplot as plt\n",
    "from mpl_toolkits.mplot3d import Axes3D\n",
    "import random\n",
    "from scipy.optimize import minimize\n",
    "import warnings\n",
    "warnings.filterwarnings('ignore')\n",
    "%load_ext autoreload\n",
    "%autoreload 2"
   ]
  },
  {
   "cell_type": "markdown",
   "metadata": {},
   "source": [
    "# Question 1"
   ]
  },
  {
   "cell_type": "markdown",
   "metadata": {},
   "source": [
    "**1. Illustrate how HF/HM\n",
    "changes when varying α ∈ {0.25, 0.50, 0.75} and σ = {0.5, 1.0, 1.5}.**"
   ]
  },
  {
   "cell_type": "code",
   "execution_count": 2,
   "metadata": {},
   "outputs": [],
   "source": [
    "model = HouseholdSpecializationModelClass()"
   ]
  },
  {
   "cell_type": "code",
   "execution_count": 3,
   "metadata": {
    "scrolled": true
   },
   "outputs": [],
   "source": [
    "sigma_list = [0.5, 1, 1.5]\n",
    "alpha_list = [0.25, 0.5, 0.75]\n",
    "ratio_list = [] # create an empty list to store the results\n",
    "\n",
    "for alpha in alpha_list:\n",
    "    model.par.alpha = alpha\n",
    "    for sigma in sigma_list:\n",
    "        model.par.sigma = sigma \n",
    "        ratio_list.append(model.solve_discrete().HF / model.solve_discrete().HM) # append the ratio to the list\n"
   ]
  },
  {
   "cell_type": "code",
   "execution_count": 4,
   "metadata": {
    "scrolled": true
   },
   "outputs": [
    {
     "data": {
      "text/html": [
       "<style type=\"text/css\">\n",
       "#T_13025_row0_col0, #T_13025_row0_col1, #T_13025_row0_col2 {\n",
       "  caption-side: bottom;\n",
       "  font-size: 18pt;\n",
       "  color: green;\n",
       "  font-weight: bold;\n",
       "  background-color: #ebf3eb;\n",
       "  color: #000000;\n",
       "}\n",
       "#T_13025_row1_col0 {\n",
       "  caption-side: bottom;\n",
       "  font-size: 18pt;\n",
       "  color: green;\n",
       "  font-weight: bold;\n",
       "  background-color: #98ca98;\n",
       "  color: #000000;\n",
       "}\n",
       "#T_13025_row1_col1 {\n",
       "  caption-side: bottom;\n",
       "  font-size: 18pt;\n",
       "  color: green;\n",
       "  font-weight: bold;\n",
       "  background-color: #b3d8b3;\n",
       "  color: #000000;\n",
       "}\n",
       "#T_13025_row1_col2 {\n",
       "  caption-side: bottom;\n",
       "  font-size: 18pt;\n",
       "  color: green;\n",
       "  font-weight: bold;\n",
       "  background-color: #c1dfc1;\n",
       "  color: #000000;\n",
       "}\n",
       "#T_13025_row2_col0, #T_13025_row2_col1, #T_13025_row2_col2 {\n",
       "  caption-side: bottom;\n",
       "  font-size: 18pt;\n",
       "  color: green;\n",
       "  font-weight: bold;\n",
       "  background-color: #008000;\n",
       "  color: #f1f1f1;\n",
       "}\n",
       "</style>\n",
       "<table id=\"T_13025\">\n",
       "  <caption>$\\frac{H_F}{H_M}$\n",
       "for different values of $\\alpha$ and $\\sigma$</caption>\n",
       "  <thead>\n",
       "    <tr>\n",
       "      <th class=\"blank level0\" >&nbsp;</th>\n",
       "      <th id=\"T_13025_level0_col0\" class=\"col_heading level0 col0\" >0.25</th>\n",
       "      <th id=\"T_13025_level0_col1\" class=\"col_heading level0 col1\" >0.50</th>\n",
       "      <th id=\"T_13025_level0_col2\" class=\"col_heading level0 col2\" >0.75</th>\n",
       "    </tr>\n",
       "  </thead>\n",
       "  <tbody>\n",
       "    <tr>\n",
       "      <th id=\"T_13025_level0_row0\" class=\"row_heading level0 row0\" >0.50</th>\n",
       "      <td id=\"T_13025_row0_col0\" class=\"data row0 col0\" >0.55</td>\n",
       "      <td id=\"T_13025_row0_col1\" class=\"data row0 col1\" >0.31</td>\n",
       "      <td id=\"T_13025_row0_col2\" class=\"data row0 col2\" >0.21</td>\n",
       "    </tr>\n",
       "    <tr>\n",
       "      <th id=\"T_13025_level0_row1\" class=\"row_heading level0 row1\" >1.00</th>\n",
       "      <td id=\"T_13025_row1_col0\" class=\"data row1 col0\" >1.00</td>\n",
       "      <td id=\"T_13025_row1_col1\" class=\"data row1 col1\" >1.00</td>\n",
       "      <td id=\"T_13025_row1_col2\" class=\"data row1 col2\" >1.00</td>\n",
       "    </tr>\n",
       "    <tr>\n",
       "      <th id=\"T_13025_level0_row2\" class=\"row_heading level0 row2\" >1.50</th>\n",
       "      <td id=\"T_13025_row2_col0\" class=\"data row2 col0\" >1.83</td>\n",
       "      <td id=\"T_13025_row2_col1\" class=\"data row2 col1\" >3.25</td>\n",
       "      <td id=\"T_13025_row2_col2\" class=\"data row2 col2\" >4.67</td>\n",
       "    </tr>\n",
       "  </tbody>\n",
       "</table>\n"
      ],
      "text/plain": [
       "<pandas.io.formats.style.Styler at 0x7f9410e15f10>"
      ]
     },
     "execution_count": 4,
     "metadata": {},
     "output_type": "execute_result"
    }
   ],
   "source": [
    "df = pd.DataFrame(np.array(ratio_list).reshape(3,3), index=sigma_list, columns=alpha_list)\n",
    "\n",
    "cm = sns.light_palette('green', as_cmap=True) #create a color palette\n",
    "\n",
    "\n",
    "df.style\\\n",
    "    .set_properties(**{'caption-side': 'bottom', 'font-size': '18pt', 'color': 'green', 'font-weight': 'bold'})\\\n",
    "    .set_caption(r'$\\frac{H_F}{H_M}$'+'\\n'+'for different values of '+r'$\\alpha$'+' and '+r'$\\sigma$')\\\n",
    "    .background_gradient(cmap=cm)\\\n",
    "    .format(precision=2)\\\n",
    "    .format_index(axis=0,precision=2)\\\n",
    "    .format_index(axis=1, precision=2)\n"
   ]
  },
  {
   "cell_type": "code",
   "execution_count": 5,
   "metadata": {},
   "outputs": [
    {
     "data": {
      "text/plain": [
       "<matplotlib.legend.Legend at 0x7f942174f580>"
      ]
     },
     "execution_count": 5,
     "metadata": {},
     "output_type": "execute_result"
    },
    {
     "data": {
      "image/png": "[encoded data removed]",
      "text/plain": [
       "<Figure size 432x288 with 1 Axes>"
      ]
     },
     "metadata": {
      "needs_background": "light"
     },
     "output_type": "display_data"
    }
   ],
   "source": [
    "ax = df.plot() #assign the plot to ax\n",
    "ax.set_xlabel(r'$\\sigma$') #set the x-label\n",
    "ax.set_ylabel(r\"$\\frac{H_F}{H_M}$\")\n",
    "ax.legend(title=r'$\\alpha:$')\n",
    "\n"
   ]
  },
  {
   "cell_type": "markdown",
   "metadata": {},
   "source": [
    "Using zip if the desired result should be presented as pair of values from the two lists:"
   ]
  },
  {
   "cell_type": "code",
   "execution_count": 6,
   "metadata": {},
   "outputs": [
    {
     "data": {
      "text/plain": [
       "'sigma_list = [0.5, 1, 1.5]\\nalpha_list = [0.25, 0.5, 0.75]\\nratio_list = [] # create an empty list to store the results\\nfor sigma, alpha in zip(sigma_list, alpha_list): # zip creates pairs of values from two lists\\n    model.par.sigma = sigma\\n    model.par.alpha = alpha\\n    ratio_list.append(model.solve_discrete().HF / model.solve_discrete().HM) # append the ratio to the list\\n    \\n    print(\"sigma: {:}, alpha: {}\".format(sigma, alpha))\\n    print(\"HF: {}, HM: {}\".format(model.solve_discrete().HF, model.solve_discrete().HM ))\\n    print(\"Log Ratio of Hours Worked: {:.2f}\".format((model.solve_discrete().HF / model.solve_discrete().HM)))\\n    print(\\'\\n\\')\\n    \\n    \\nplt.figure(dpi = 200)\\nsns.lineplot(x = alpha_list, y = ratio_list, color = \\'orange\\');\\nscatter = sns.scatterplot(x = alpha_list, y = ratio_list, hue = sigma_list, s = 200,\\n                palette=[\\'red\\', \\'green\\', \\'blue\\'],\\n                zorder = 2)\\n\\nplt.xlabel(r\\'$\\x07lpha$\\')\\nplt.ylabel(r\"$\\x0crac{H_F}{H_M}$\")\\nplt.title(r\"$\\x0crac{H_F}{H_M}$ \" \\'vs. \\' r\\'$\\\\sigma$\\' \\' & \\' r\\'$\\x07lpha$\\')\\nplt.legend(title=r\\'$\\\\sigma:$\\')\\n\\nplt.ylim(0,5)\\n\\n# Add annotations to each point\\nfor i in range(len(alpha_list)):\\n    scatter.annotate(f\\'({alpha_list[i]:.2f}, {ratio_list[i]:.2f}, {sigma_list[i]:.2f})\\', \\n                     (alpha_list[i], ratio_list[i]), \\n                     textcoords=\"offset points\", \\n                     xytext=(0,10), ha=\\'center\\', fontsize=8, fontweight=\\'bold\\')\\n\\nplt.show()\\n\\n    '"
      ]
     },
     "execution_count": 6,
     "metadata": {},
     "output_type": "execute_result"
    }
   ],
   "source": [
    "'''sigma_list = [0.5, 1, 1.5]\n",
    "alpha_list = [0.25, 0.5, 0.75]\n",
    "ratio_list = [] # create an empty list to store the results\n",
    "for sigma, alpha in zip(sigma_list, alpha_list): # zip creates pairs of values from two lists\n",
    "    model.par.sigma = sigma\n",
    "    model.par.alpha = alpha\n",
    "    ratio_list.append(model.solve_discrete().HF / model.solve_discrete().HM) # append the ratio to the list\n",
    "    \n",
    "    print(\"sigma: {:}, alpha: {}\".format(sigma, alpha))\n",
    "    print(\"HF: {}, HM: {}\".format(model.solve_discrete().HF, model.solve_discrete().HM ))\n",
    "    print(\"Log Ratio of Hours Worked: {:.2f}\".format((model.solve_discrete().HF / model.solve_discrete().HM)))\n",
    "    print('\\n')\n",
    "    \n",
    "    \n",
    "plt.figure(dpi = 200)\n",
    "sns.lineplot(x = alpha_list, y = ratio_list, color = 'orange');\n",
    "scatter = sns.scatterplot(x = alpha_list, y = ratio_list, hue = sigma_list, s = 200,\n",
    "                palette=['red', 'green', 'blue'],\n",
    "                zorder = 2)\n",
    "\n",
    "plt.xlabel(r'$\\alpha$')\n",
    "plt.ylabel(r\"$\\frac{H_F}{H_M}$\")\n",
    "plt.title(r\"$\\frac{H_F}{H_M}$ \" 'vs. ' r'$\\sigma$' ' & ' r'$\\alpha$')\n",
    "plt.legend(title=r'$\\sigma:$')\n",
    "\n",
    "plt.ylim(0,5)\n",
    "\n",
    "# Add annotations to each point\n",
    "for i in range(len(alpha_list)):\n",
    "    scatter.annotate(f'({alpha_list[i]:.2f}, {ratio_list[i]:.2f}, {sigma_list[i]:.2f})', \n",
    "                     (alpha_list[i], ratio_list[i]), \n",
    "                     textcoords=\"offset points\", \n",
    "                     xytext=(0,10), ha='center', fontsize=8, fontweight='bold')\n",
    "\n",
    "plt.show()\n",
    "\n",
    "    '''\n",
    "    "
   ]
  },
  {
   "cell_type": "markdown",
   "metadata": {},
   "source": [
    "---"
   ]
  },
  {
   "cell_type": "markdown",
   "metadata": {},
   "source": [
    "# Question 2"
   ]
  },
  {
   "cell_type": "markdown",
   "metadata": {},
   "source": [
    "Explain your code and procedure"
   ]
  },
  {
   "cell_type": "code",
   "execution_count": 7,
   "metadata": {},
   "outputs": [],
   "source": [
    "model = HouseholdSpecializationModelClass() # Resetting Values for Sigma and Alpha.\n",
    "wf_list = [0.8, 0.9, 1, 1.1, 1.2]\n",
    "hours_ratio = []\n",
    "for wage in wf_list: \n",
    "    model.par.wF = wage\n",
    "    hours_ratio.append(np.log(model.solve_discrete().HF / model.solve_discrete().HM)) #appending the wages,\n"
   ]
  },
  {
   "cell_type": "markdown",
   "metadata": {},
   "source": [
    "Giving that wM = 1, then I plot log(HF/HM) to log(wF)"
   ]
  },
  {
   "cell_type": "code",
   "execution_count": 8,
   "metadata": {
    "scrolled": true
   },
   "outputs": [
    {
     "data": {
      "image/png": "[encoded data removed]",
      "text/plain": [
       "<Figure size 432x288 with 1 Axes>"
      ]
     },
     "metadata": {
      "needs_background": "light"
     },
     "output_type": "display_data"
    }
   ],
   "source": [
    "sns.lineplot(x=np.log(wf_list), y=hours_ratio)\n",
    "sns.scatterplot(x = np.log(wf_list), y = hours_ratio,  hue = wf_list, s = 200, palette= 'bright',\n",
    "               zorder = 2);\n",
    "\n",
    "plt.xlabel(r\"log($\\frac{W_F}{W_M}$)\");\n",
    "plt.ylabel(r'log($\\frac{HF}{HM}$)');\n",
    "\n",
    "plt.legend(title=r'$\\bf{wF:}$')\n",
    "\n",
    "plt.title('Question 2')\n",
    "\n",
    "for x, y in zip(np.log(wf_list), hours_ratio):\n",
    "    plt.annotate(f'({x:.2f}, {y:.2f})', (x, y))"
   ]
  },
  {
   "cell_type": "markdown",
   "metadata": {},
   "source": [
    "<h4>Interpretation of the results (Q2)</h4>\n",
    "\n",
    "<p style=“font-size:16px;”>The figure and table above illustrate how the relative wage rate of women affects their optimal time allocation between home production and labor market. The graph has a constant linear slope, which indicates the elasticity of the input ratio of women and men in home production to the wage ratio. Both variables are log transformed for this purpose.</p>\n",
    "\n",
    "<p style=“font-size:16px;”>When women earn more in the labor market relative to men, they tend to spend less time on home production and more time on earning income. This is because their opportunity cost of home production increases as they can buy more consumer goods with their higher wages. Conversely, men spend more time on home production as their relative wages decrease.</p>\n",
    "\n",
    "<p style=“font-size:16px;”>The graph has a flat segment where the wage ratio does not affect the input ratio in home production. This is because the choice variables are discrete and can only take integer values.</p>"
   ]
  },
  {
   "cell_type": "markdown",
   "metadata": {},
   "source": [
    "# Question 3"
   ]
  },
  {
   "cell_type": "markdown",
   "metadata": {},
   "source": [
    "**We need to solve the model continously and not for discrete values of hours working**"
   ]
  },
  {
   "cell_type": "code",
   "execution_count": 9,
   "metadata": {},
   "outputs": [],
   "source": [
    "model = HouseholdSpecializationModelClass() # "
   ]
  },
  {
   "cell_type": "code",
   "execution_count": 10,
   "metadata": {},
   "outputs": [
    {
     "name": "stdout",
     "output_type": "stream",
     "text": [
      "LM: 5.889, HM: 4.093, LF: 2.869, HF: 5.116\n",
      "Maximum utility: 0.25\n",
      "wF: 1.2\n",
      "Log Ratio of Hours Worked: -0.22\n",
      "\n",
      "\n",
      "LM: 5.168, HM: 4.271, LF: 3.749, HF: 4.746\n",
      "Maximum utility: 0.24\n",
      "wF: 1.2\n",
      "Log Ratio of Hours Worked: -0.11\n",
      "\n",
      "\n",
      "LM: 4.454, HM: 4.454, LF: 4.454, HF: 4.454\n",
      "Maximum utility: 0.24\n",
      "wF: 1.2\n",
      "Log Ratio of Hours Worked: 0.00\n",
      "\n",
      "\n",
      "LM: 3.760, HM: 4.642, LF: 5.022, HF: 4.220\n",
      "Maximum utility: 0.23\n",
      "wF: 1.2\n",
      "Log Ratio of Hours Worked: 0.10\n",
      "\n",
      "\n",
      "LM: 3.090, HM: 4.833, LF: 5.480, HF: 4.027\n",
      "Maximum utility: 0.23\n",
      "wF: 1.2\n",
      "Log Ratio of Hours Worked: 0.18\n",
      "\n",
      "\n"
     ]
    }
   ],
   "source": [
    "HF_HM = []\n",
    "log_wf_wm = []\n",
    "\n",
    "# The vector of wages, we want to go through:\n",
    "wF_vec = np.linspace(0.8,1.2,5) \n",
    "\n",
    "\n",
    "# solve the model for each value of the vector.\n",
    "for i, w_F in enumerate(wF_vec):\n",
    "    model.par.wF = w_F\n",
    "    opt = model.solve()\n",
    "\n",
    "    HF_HM.append(np.log(opt.HF/opt.HM))\n",
    "    log_wf_wm.append(np.log(w_F)) \n",
    "    \n",
    "    print(\"LM: {:.3f}, HM: {:.3f}, LF: {:.3f}, HF: {:.3f}\".format(opt.LM, opt.HM, opt.LF, opt.HF))\n",
    "    print(\"Maximum utility: {:.2f}\".format(opt.u))\n",
    "    print(\"wF: {:}\".format(wage))\n",
    "    print(\"Log Ratio of Hours Worked: {:.2f}\".format(np.log(w_F)))\n",
    "    print('\\n')\n",
    "    "
   ]
  },
  {
   "cell_type": "code",
   "execution_count": 11,
   "metadata": {},
   "outputs": [
    {
     "data": {
      "image/png": "[encoded data removed]",
      "text/plain": [
       "<Figure size 432x288 with 1 Axes>"
      ]
     },
     "metadata": {
      "needs_background": "light"
     },
     "output_type": "display_data"
    }
   ],
   "source": [
    "sns.lineplot(x=np.log(wf_list), y=HF_HM)\n",
    "sns.scatterplot(x = np.log(wf_list), y = HF_HM,  hue = wf_list, s = 200, palette= 'bright',\n",
    "               zorder = 2);\n",
    "\n",
    "plt.xlabel(r\"log($\\frac{W_F}{W_M}$)\");\n",
    "plt.ylabel(r'log($\\frac{HF}{HM}$)');\n",
    "\n",
    "plt.legend(title=r'$\\bf{wF:}$')\n",
    "\n",
    "plt.title('Question 3')\n",
    "\n",
    "for x, y in zip(np.log(wf_list), HF_HM):\n",
    "    plt.annotate(f'({x:.2f}, {y:.2f})', (x+0.005, y+0.005))\n"
   ]
  },
  {
   "cell_type": "markdown",
   "metadata": {},
   "source": [
    "<h4>Interpretation of (Q3)</h4>\n",
    "<br>\n",
    "\n",
    "<p style=“color:blue; font-size:18px;”>With the <b>choice variable</b> being continuous, the correlation between the <i>relative wage ratio</i> and <i>participation ratio in domestic tasks</i> can be represented by a constant linear slope. This slope reflects the elasticity of inputs in home production concerning the relative wage rate. As illustrated in the figure and table above, when women’s relative labor wage increases, their optimal participation in home production decreases.</p>"
   ]
  },
  {
   "cell_type": "markdown",
   "metadata": {},
   "source": [
    "## Question 4"
   ]
  },
  {
   "cell_type": "code",
   "execution_count": 12,
   "metadata": {},
   "outputs": [],
   "source": [
    "model = HouseholdSpecializationModelClass() #resetting parameters,"
   ]
  },
  {
   "cell_type": "code",
   "execution_count": 13,
   "metadata": {
    "scrolled": true
   },
   "outputs": [],
   "source": [
    "result = model.estimate()"
   ]
  },
  {
   "cell_type": "code",
   "execution_count": 14,
   "metadata": {},
   "outputs": [
    {
     "data": {
      "text/plain": [
       " final_simplex: (array([[0.98201625, 0.09999592],\n",
       "       [0.98201625, 0.09999592],\n",
       "       [0.98201625, 0.09999592]]), array([7.57631360e-17, 1.05471620e-15, 1.12689534e-15]))\n",
       "           fun: 7.576313600433451e-17\n",
       "       message: 'Optimization terminated successfully.'\n",
       "          nfev: 143\n",
       "           nit: 69\n",
       "        status: 0\n",
       "       success: True\n",
       "             x: array([0.98201625, 0.09999592])"
      ]
     },
     "execution_count": 14,
     "metadata": {},
     "output_type": "execute_result"
    }
   ],
   "source": [
    "result"
   ]
  },
  {
   "cell_type": "markdown",
   "metadata": {},
   "source": [
    "#### Results from regression:"
   ]
  },
  {
   "cell_type": "code",
   "execution_count": 15,
   "metadata": {},
   "outputs": [
    {
     "name": "stdout",
     "output_type": "stream",
     "text": [
      "The squared error is minimized when:\n",
      " - alpha = 0.982\n",
      " - sigma = 0.100\n",
      "\n",
      "At these values, our coefficients are:\n",
      " - beta_hat0 = 0.400\n",
      " - beta_hat1 = -0.100\n",
      "\n",
      "The target values:\n",
      " - beta0 = 0.400\n",
      " - beta1 = -0.100\n",
      "\n",
      "Therefore, the error must be 0:\n",
      "The minimized squared error is: 0.00000000\n"
     ]
    }
   ],
   "source": [
    "print(f'The squared error is minimized when:')\n",
    "print(f' - alpha = {model.par.alpha:.3f}')\n",
    "print(f' - sigma = {model.par.sigma:.3f}')\n",
    "print()\n",
    "print(f'At these values, our coefficients are:')\n",
    "print(f' - beta_hat0 = {model.sol.beta0:.3f}')\n",
    "print(f' - beta_hat1 = {model.sol.beta1:.3f}')\n",
    "print()\n",
    "print(f'The target values:')\n",
    "print(f' - beta0 = {model.par.beta0_target:.3f}')\n",
    "print(f' - beta1 = {model.par.beta1_target:.3f}')\n",
    "print()\n",
    "\n",
    "print('Therefore, the error must be 0:')\n",
    "print(f'The minimized squared error is: {result.fun:.8f}')"
   ]
  },
  {
   "cell_type": "markdown",
   "metadata": {},
   "source": [
    "---"
   ]
  },
  {
   "cell_type": "markdown",
   "metadata": {},
   "source": [
    "#### Plot to show how well the model fits the data:"
   ]
  },
  {
   "cell_type": "code",
   "execution_count": null,
   "metadata": {
    "scrolled": true
   },
   "outputs": [],
   "source": [
    "# We find the log H ratio \n",
    "ratio = np.log(model.sol.HF_vec/model.sol.HM_vec)\n",
    "\n",
    "fig = plt.figure()\n",
    "ax = fig.add_subplot(1,1,1)\n",
    "\n",
    "#Ratio and the vector of wages.\n",
    "ax.scatter(np.log(model.par.wF_vec),  \n",
    "           ratio)\n",
    "\n",
    "# Adding the regression. beta0 + beta1 * estimate  \n",
    "ax.plot(np.log(model.par.wF_vec),model.sol.beta0+model.sol.beta1*np.log(model.par.wF_vec),\n",
    "       color = 'black', label = 'Models predicition', linestyle = '--', lw = 4, alpha = 0.3)\n",
    "\n",
    "# Using the original (true value) of beta0 and beta1\n",
    "ax.plot(np.log(model.par.wF_vec),model.par.beta0_target+model.par.beta1_target*np.log(model.par.wF_vec),\n",
    "       color = 'green', label = 'Original', alpha = 1, lw = 4, linestyle = ':')\n",
    "\n",
    "\n",
    "\n",
    "# We set title and axis labels \n",
    "ax.set_title('Our Models preds versus the Papers')\n",
    "ax.set_xlabel('$log(\\omega_F/\\omega_M)$')\n",
    "ax.set_ylabel('$log(H_F/H_M)$');\n",
    "\n",
    "ax.legend(loc=0) ;"
   ]
  },
  {
   "cell_type": "markdown",
   "metadata": {},
   "source": [
    "<h4>Interpretation of (Q4)</h4>\n",
    "<br>\n",
    "\n",
    "\n",
    "**Our findings suggest, there is zero deviation from the original paper. \n",
    " The intuition is women must exhibit higher productivity in domestic tasks and their contributions must complement those of men.**"
   ]
  },
  {
   "cell_type": "markdown",
   "metadata": {},
   "source": [
    "---"
   ]
  },
  {
   "cell_type": "markdown",
   "metadata": {},
   "source": [
    "# Question 5"
   ]
  },
  {
   "cell_type": "markdown",
   "metadata": {},
   "source": [
    "Based on empirical evidence, it has been established that modifying the model is necessary, given that **alpha = 0.5**. The model only effectively fits the data when alpha is 0.98 and sigma is 0.1. Imposing the constraint of alpha = 0.5 may result in a decline in performance. Consequently, it is essential to refine the model, and various strategies can be utilized to achieve this objective.\n",
    "\n",
    "<br>\n",
    "<br>\n",
    "\n",
    "One approach is to incorporate children into the model, while another strategy is to include disutility when working either at home or in an office, which may depend on gender. For instance, **men may have a preference for working more** Hence, matching utility functions may no longer apply. \n",
    "\n",
    "<br>\n",
    "<br>\n",
    "\n",
    "In conclusion, the evidence suggests that modifying the model is essential to ensure optimal performance. Incorporating children into the model or adding disutility when working at home or in an office, depending on gender, are some of the strategies that can be employed to refine the model.\n"
   ]
  },
  {
   "cell_type": "markdown",
   "metadata": {},
   "source": [
    "Ideas to modify the setup:<br>\n",
    " -'"
   ]
  },
  {
   "cell_type": "markdown",
   "metadata": {},
   "source": [
    "#### The Model solved with Alpha = 0.5"
   ]
  },
  {
   "cell_type": "code",
   "execution_count": 17,
   "metadata": {},
   "outputs": [],
   "source": [
    "model = HouseholdSpecializationModelClass()"
   ]
  },
  {
   "cell_type": "code",
   "execution_count": 18,
   "metadata": {},
   "outputs": [],
   "source": [
    "result = model.estimate(alpha = 0.5)"
   ]
  },
  {
   "cell_type": "code",
   "execution_count": 19,
   "metadata": {
    "scrolled": true
   },
   "outputs": [
    {
     "data": {
      "text/plain": [
       " final_simplex: (array([[0.5       , 0.10048798],\n",
       "       [0.5       , 0.10048798],\n",
       "       [0.5       , 0.10048798]]), array([0.16001115, 0.16001115, 0.16001115]))\n",
       "           fun: 0.1600111483861512\n",
       "       message: 'Optimization terminated successfully.'\n",
       "          nfev: 220\n",
       "           nit: 85\n",
       "        status: 0\n",
       "       success: True\n",
       "             x: array([0.5       , 0.10048798])"
      ]
     },
     "execution_count": 19,
     "metadata": {},
     "output_type": "execute_result"
    }
   ],
   "source": [
    "result"
   ]
  },
  {
   "cell_type": "code",
   "execution_count": 20,
   "metadata": {},
   "outputs": [
    {
     "name": "stdout",
     "output_type": "stream",
     "text": [
      "The squared error is minimized when:\n",
      " - alpha = 0.500\n",
      " - sigma = 0.100\n",
      "\n",
      "The minimized squared error is: 0.16001115\n"
     ]
    }
   ],
   "source": [
    "print(f'The squared error is minimized when:')\n",
    "print(f' - alpha = {model.par.alpha:.3f}')\n",
    "print(f' - sigma = {model.par.sigma:.3f}')\n",
    "print()\n",
    "print(f'The minimized squared error is: {result.fun:.8f}')"
   ]
  },
  {
   "cell_type": "markdown",
   "metadata": {},
   "source": [
    "#### We can see the model failed. "
   ]
  },
  {
   "cell_type": "markdown",
   "metadata": {},
   "source": [
    "---"
   ]
  },
  {
   "cell_type": "markdown",
   "metadata": {},
   "source": [
    "#### Varying theta and sigma holding alpha = 0.5.\n",
    "\n",
    "Theta is some variable, that affects the disutility for women. "
   ]
  },
  {
   "cell_type": "markdown",
   "metadata": {},
   "source": [
    "Therefore, we will now implement of the suggestions. We will add a parameter to the disutility the household gets from spending time working. More specifically, we will implement a paramter, that alters women disutility from working. More specifically, we have implemented nu ** theta. Where theta is the new parameter. When theta = 1, there is no difference. When Theta increases, then the disutility women experience when working decreases, since nu < 1. "
   ]
  },
  {
   "cell_type": "code",
   "execution_count": 21,
   "metadata": {},
   "outputs": [],
   "source": [
    "model = HouseholdSpecializationModelClass()"
   ]
  },
  {
   "cell_type": "code",
   "execution_count": null,
   "metadata": {},
   "outputs": [],
   "source": [
    "result2 = model.estimate2()"
   ]
  },
  {
   "cell_type": "code",
   "execution_count": null,
   "metadata": {},
   "outputs": [],
   "source": [
    "print(f'The squared error is minimized when:')\n",
    "print(f' - theta = {model.par.theta:.3f}')\n",
    "print(f' - sigma = {model.par.sigma:.3f}')\n",
    "print()\n",
    "print(f'The minimized squared error is: {result2.fun:.8f}')"
   ]
  },
  {
   "cell_type": "markdown",
   "metadata": {},
   "source": [
    "#### The models performance is enhanched, but it is still worse than alpha = 1. Other extensions could've been explored that would've altered the results. One could've explored disutility when working from home varies on gender. This might have improved the model. "
   ]
  },
  {
   "cell_type": "code",
   "execution_count": null,
   "metadata": {},
   "outputs": [],
   "source": [
    "data = {\n",
    "    'Model alpha = 0.5': ['Sigma', 'Sigma and Theta'],\n",
    "    'MSE': [result.fun, result2.fun]\n",
    "}\n",
    "\n",
    "comparison_df = pd.DataFrame(data)\n",
    "\n",
    "print(comparison_df)"
   ]
  }
 ],
 "metadata": {
  "kernelspec": {
   "display_name": "Python 3 (ipykernel)",
   "language": "python",
   "name": "python3"
  },
  "language_info": {
   "codemirror_mode": {
    "name": "ipython",
    "version": 3
   },
   "file_extension": ".py",
   "mimetype": "text/x-python",
   "name": "python",
   "nbconvert_exporter": "python",
   "pygments_lexer": "ipython3",
   "version": "3.9.12"
  },
  "toc-autonumbering": true,
  "vscode": {
   "interpreter": {
    "hash": "47ef90cdf3004d3f859f1fb202523c65c07ba7c22eefd261b181f4744e2d0403"
   }
  }
 },
 "nbformat": 4,
 "nbformat_minor": 4
}
