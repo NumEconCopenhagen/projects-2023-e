{
 "cells": [
  {
   "cell_type": "markdown",
   "metadata": {},
   "source": [
    "**Table of contents**<a id='toc0_'></a>    \n",
    "- 1. [Problem 1: Optimal taxation with government consumption](#toc1_)    \n",
    "- 2. [Problem 2: Labor adjustment costs](#toc2_)    \n",
    "- 3. [Problem 3: Global optimizer with refined multi-start](#toc3_)    \n",
    "\n",
    "<!-- vscode-jupyter-toc-config\n",
    "\tnumbering=true\n",
    "\tanchor=true\n",
    "\tflat=false\n",
    "\tminLevel=2\n",
    "\tmaxLevel=6\n",
    "\t/vscode-jupyter-toc-config -->\n",
    "<!-- THIS CELL WILL BE REPLACED ON TOC UPDATE. DO NOT WRITE YOUR TEXT IN THIS CELL -->"
   ]
  },
  {
   "cell_type": "code",
   "execution_count": 1,
   "metadata": {},
   "outputs": [],
   "source": [
    "import numpy as np\n",
    "import scipy as sp\n",
    "from scipy import linalg\n",
    "from scipy import optimize\n",
    "from scipy import interpolate\n",
    "import sympy as sm\n",
    "from sympy import lambdify\n",
    "from sympy import *\n",
    "from sympy import symbols, sqrt\n",
    "%matplotlib inline\n",
    "import matplotlib.pyplot as plt\n",
    "plt.style.use('seaborn-whitegrid')\n",
    "from matplotlib import cm\n",
    "from mpl_toolkits.mplot3d import Axes3D"
   ]
  },
  {
   "cell_type": "markdown",
   "metadata": {},
   "source": [
    "## 1. <a id='toc1_'></a>[Problem 1: Optimal taxation with government consumption](#toc0_)"
   ]
  },
  {
   "cell_type": "markdown",
   "metadata": {},
   "source": [
    "\n",
    "Consider a worker choosing hours of labor, $L\\in[0,24]$, to maximize utility: \n",
    "\n",
    "$$\n",
    "\\begin{align*}\n",
    "V(w,\\tau,G)&=\\max_{L\\in[0,24]}\\ln\\left(C^{\\alpha}G^{1-\\alpha}\\right)-\\nu\\frac{L^{2}}{2}\\\\&\\text{s.t.}\\\\&C=\\kappa+(1-\\tau)wL\n",
    "\\end{align*}\n",
    "$$\n",
    "\n",
    "where \n",
    "\n",
    "* $C$ is *private* consumption with weight $\\alpha\\in(0,1)$.\n",
    "* $\\kappa > 0$ is the *free private* consumption component.\n",
    "* $C = (1-\\tau)wL$ is the *costly private* consumption component.\n",
    "* $w > 0 $ is the real wage.\n",
    "* $\\tau \\in (0,1)$ is the labor-income tax rate.\n",
    "* $G > 0 $ is *government* consumption with weight $1-\\alpha$.\n",
    "* $\\nu > 0$ is the disutility of labor scaling factor"
   ]
  },
  {
   "cell_type": "markdown",
   "metadata": {},
   "source": [
    "\n",
    "The baseline parameters are:\n",
    "\n",
    "$$\n",
    "\\begin{align*}\n",
    "\\alpha &= 0.5\\\\\n",
    "\\kappa &= 1.0\\\\\n",
    "\\nu &= \\frac{1}{2\\cdot16^2} \\\\\n",
    "w &= 1.0 \\\\ \n",
    "\\tau &= 0.30 \\\\\n",
    "\\end{align*}\n",
    "$$"
   ]
  },
  {
   "cell_type": "markdown",
   "metadata": {},
   "source": [
    "**Question 1:** Verify that the optimal labor supply choice is $L^{\\star}(\\tilde{w}) =\\frac{-\\kappa+\\sqrt{\\kappa^{2}+4\\frac{\\alpha}{\\nu}\\tilde{w}^2}}{2\\tilde{w}}$, where $\\tilde{w} = (1-\\tau)w$, for $G\\in\\left\\{1.0 , 2.0\\right\\}$."
   ]
  },
  {
   "cell_type": "code",
   "execution_count": 2,
   "metadata": {
    "scrolled": true
   },
   "outputs": [
    {
     "data": {
      "text/latex": [
       "$\\displaystyle \\frac{- \\kappa \\nu + \\sqrt{\\nu \\left(4 \\alpha \\tilde{w}^{2} + \\kappa^{2} \\nu\\right)}}{2 \\nu \\tilde{w}}$"
      ],
      "text/plain": [
       "(-kappa*nu + sqrt(nu*(4*alpha*wtilde**2 + kappa**2*nu)))/(2*nu*wtilde)"
      ]
     },
     "execution_count": 2,
     "metadata": {},
     "output_type": "execute_result"
    }
   ],
   "source": [
    "L, w, tau, G ,kappa, alpha, nu = symbols('L w tau G kappa alpha nu')\n",
    "C = sm.symbols('C')\n",
    "wtilde = sm.symbols('wtilde')\n",
    "utility = sm.log((C)**alpha * G **(1-alpha)) - (nu * ((L**2)/2))\n",
    "\n",
    "budget_constraint = kappa + wtilde*L\n",
    "\n",
    "utility_subs= utility.subs(C, budget_constraint)\n",
    "\n",
    "\n",
    "dV = sm.diff(utility.subs(C, budget_constraint), L)\n",
    "\n",
    "sol = solve(dV, L, simplify = True)\n",
    "\n",
    "sol[1]"
   ]
  },
  {
   "cell_type": "markdown",
   "metadata": {},
   "source": [
    "This result is equivalent to the desired one. "
   ]
  },
  {
   "cell_type": "markdown",
   "metadata": {},
   "source": [
    "**Question 2:** Illustrate how $L^{\\star}(\\tilde{w})$ depends on $w$."
   ]
  },
  {
   "cell_type": "markdown",
   "metadata": {},
   "source": [
    "**Inserting values into the optimal labour supply choice $L^{\\star}(\\tilde{w}) =\\frac{-\\kappa+\\sqrt{\\kappa^{2}+4\\frac{\\alpha}{\\nu}\\tilde{w}^2}}{2\\tilde{w}}$, where $\\tilde{w} = (1-\\tau)w$, for $G\\in\\left\\{1.0 , 2.0\\right\\}$.**"
   ]
  },
  {
   "cell_type": "markdown",
   "metadata": {},
   "source": [
    "#### Plot of Optimal Labor Supply wrt. changes in real wage"
   ]
  },
  {
   "cell_type": "code",
   "execution_count": 3,
   "metadata": {},
   "outputs": [
    {
     "data": {
      "image/png": "[encoded data removed]",
      "text/plain": [
       "<Figure size 432x288 with 1 Axes>"
      ]
     },
     "metadata": {},
     "output_type": "display_data"
    }
   ],
   "source": [
    "import sympy as sp\n",
    "import numpy as np\n",
    "import matplotlib.pyplot as plt\n",
    "\n",
    "# Define symbolic variables\n",
    "L, w, tau, alpha, kappa, nu, G = sp.symbols('L w tau alpha kappa nu G')\n",
    "\n",
    "# Define the equation for private consumption C\n",
    "C = kappa + (1 - tau) * w * L\n",
    "\n",
    "# Define the equation for the objective function\n",
    "objective = sp.log(C**alpha * G**(1 - alpha)) - nu * L**2 / 2\n",
    "\n",
    "# Take the derivative of the objective function with respect to L\n",
    "d_objective = sp.diff(objective, L)\n",
    "\n",
    "# Solve for L*\n",
    "L_star_expr = sp.solve(d_objective, L)\n",
    "\n",
    "# Define the parameter values\n",
    "alpha_val = 0.5\n",
    "kappa_val = 1.0\n",
    "nu_val = 1 / (2 * 16**2)\n",
    "tau_val = 0.30\n",
    "G_val = 1.0\n",
    "\n",
    "# Define the range of w values\n",
    "w_values = np.linspace(0.01, 2.0, 100)\n",
    "\n",
    "# Create a function to evaluate the numerical value of L_star\n",
    "L_star_func = sp.lambdify(w, L_star_expr[0].subs([(alpha, alpha_val), (kappa, kappa_val), (nu, nu_val), (G, G_val), (tau, tau_val)]))\n",
    "\n",
    "# Calculate the corresponding L* values\n",
    "L_star_values = L_star_func(w_values)\n",
    "\n",
    "# Plot L* as a function of w\n",
    "plt.plot(w_values, L_star_values)\n",
    "plt.xlabel('w')\n",
    "plt.ylabel('L*')\n",
    "plt.title('Optimal Labor Supply')\n",
    "plt.grid(True)\n",
    "plt.show()\n"
   ]
  },
  {
   "cell_type": "markdown",
   "metadata": {},
   "source": [
    "\n",
    "We now consider a government, who chooses $\\tau$ and spend all of the taxes on government consumption so:\n",
    "\n",
    "$$\n",
    "G = \\tau w L^{\\star}((1-\\tau)w)\n",
    "$$\n",
    "\n",
    "**Question 3:** Plot the implied $L$, $G$ and worker utility for a grid of $\\tau$-values.\n"
   ]
  },
  {
   "cell_type": "code",
   "execution_count": 4,
   "metadata": {
    "scrolled": true
   },
   "outputs": [
    {
     "data": {
      "image/png": "[encoded data removed]",
      "text/plain": [
       "<Figure size 1080x360 with 3 Axes>"
      ]
     },
     "metadata": {},
     "output_type": "display_data"
    }
   ],
   "source": [
    "# Define the parameter values\n",
    "alpha = 0.5\n",
    "kappa = 1.0\n",
    "nu = 1.0 / (2 * 16**2)\n",
    "w = 1.0\n",
    "\n",
    "# Define the function for calculating the optimal labor supply\n",
    "def optimal_labor_supply(w, kappa, alpha, nu, tau):\n",
    "    tw = (1 - tau) * w\n",
    "    numerator = -kappa + np.sqrt(kappa**2 + 4 * (alpha / nu) * tw**2)\n",
    "    denominator = 2 * tw\n",
    "    return numerator / denominator\n",
    "\n",
    "# Define the function for calculating government consumption\n",
    "def government_consumption(w, tau, L_star):\n",
    "    return tau * w * L_star\n",
    "\n",
    "# Define the function for calculating worker utility\n",
    "def worker_utility(C, G, alpha, nu, L):\n",
    "    return np.log(C**alpha * G**(1 - alpha)) - nu * (L**2) / 2\n",
    "\n",
    "# Define the range of tau values\n",
    "tau_range = np.linspace(0.01, 0.99, 100)\n",
    "\n",
    "# Initialize empty arrays to store the implied values\n",
    "L_values = np.zeros_like(tau_range)\n",
    "G_values = np.zeros_like(tau_range)\n",
    "utility_values = np.zeros_like(tau_range)\n",
    "\n",
    "# Calculate the implied values for each tau\n",
    "for i, tau in enumerate(tau_range):\n",
    "    tw = (1 - tau) * w\n",
    "    L_star = optimal_labor_supply(w, kappa, alpha, nu, tau)\n",
    "    G = government_consumption(w, tau, L_star)\n",
    "    C = kappa + (1 - tau) * w * L_star\n",
    "    utility = worker_utility(C, G, alpha, nu, L_star)\n",
    "\n",
    "    L_values[i] = L_star\n",
    "    G_values[i] = G\n",
    "    utility_values[i] = utility\n",
    "\n",
    "# Create subplots for all three plots\n",
    "fig, axs = plt.subplots(1, 3, figsize=(15, 5))\n",
    "\n",
    "# Plot labor supply (L)\n",
    "axs[0].plot(tau_range, L_values)\n",
    "axs[0].set_xlabel('Tax Rate (τ)')\n",
    "axs[0].set_ylabel('Labor Supply (L)')\n",
    "axs[0].set_title('Labor Supply vs. Tax Rate')\n",
    "\n",
    "# Plot government consumption (G)\n",
    "axs[1].plot(tau_range, G_values)\n",
    "axs[1].set_xlabel('Tax Rate (τ)')\n",
    "axs[1].set_ylabel('Government Consumption (G)')\n",
    "axs[1].set_title('Government Consumption vs. Tax Rate')\n",
    "\n",
    "# Plot worker utility\n",
    "axs[2].plot(tau_range, utility_values)\n",
    "axs[2].set_xlabel('Tax Rate (τ)')\n",
    "axs[2].set_ylabel('Worker Utility')\n",
    "axs[2].set_title('Worker Utility vs. Tax Rate')\n",
    "\n",
    "# Adjust spacing between subplots\n",
    "plt.tight_layout()\n",
    "\n",
    "# Show the plots\n",
    "plt.show()\n"
   ]
  },
  {
   "cell_type": "markdown",
   "metadata": {},
   "source": [
    "**Labor Supply vs. Tax Rate:**\n",
    "The tax rate affects the labor supply by influencing the incentives for individuals to work. Higher tax rates reduces the net income workers receive from their employment, which lead to changes in their willingness to work. The relationship between the tax rate and labor supply is often described using the concept of the substitution effect and the income effect:\n",
    "\n",
    "Substitution Effect: \n",
    "When tax rates increase, the net income from work decreases. This creates a higher opportunity cost of leisure compared to work, prompting individuals to work more hours to maintain their desired level of consumption or income.\n",
    "\n",
    "Income Effect: Higher tax rates reduce the after-tax income earned by workers. This decrease in income can lead to a decrease in the supply of labor as individuals may choose to work fewer hours or not participate in the labor force at all, especially if the reduced income still satisfies their basic needs and preferences for leisure time.\n",
    "\n",
    "\n",
    "**Government Consumption vs. Tax Rate:**\n",
    "The tax rate directly affects government revenue, which, in turn, influences government consumption. The plot is thereby closely related to the Laffer curve, which shows the relationsship between the tax rate and government revenue. When tax rates increase, government revenue increases to a certain point, ceteris paribus. This additional revenue provide the government with more resources to spend on public goods and services, leading to an increase in government consumption. If the tax becomes high enough, the tax rate will affect the government consumption negatively, as shown in the figure. Too high taxes reduce incentives for economic activity, such as work and investment, leading to slower economic growth and decreased tax revenue and hence decreased government consumption. Secondly, high tax rates can crowd out private consumption and investment, resulting in lower overall economic activity and reduced tax revenues. Lastly, high tax rates may lead to tax base erosion as individuals and businesses seek ways to minimize their tax liabilities, reducing the government's revenue and thereby also reducing the consumption. \n",
    "\n",
    "\n",
    "**Worker Utility vs. Tax Rate:**\n",
    "The tax rate can indirectly affect worker utility by influencing the after-tax income individuals receive from work, which can impact their overall economic welfare and lifestyle choices. An increase in the tax rate reduce the income workers receive, which lower worker utility. If the tax burden is perceived as too high, workers may feel that the rewards from work are diminished, potentially leading to decreased job satisfaction and motivation.\n"
   ]
  },
  {
   "cell_type": "markdown",
   "metadata": {},
   "source": [
    "**Question 4:** Find the socially optimal tax rate $\\tau^{\\star}\\in(0,1)$ maximizing worker utility. Illustrate your result."
   ]
  },
  {
   "cell_type": "code",
   "execution_count": 5,
   "metadata": {
    "scrolled": true
   },
   "outputs": [
    {
     "data": {
      "image/png": "[encoded data removed]",
      "text/plain": [
       "<Figure size 432x288 with 1 Axes>"
      ]
     },
     "metadata": {},
     "output_type": "display_data"
    },
    {
     "name": "stdout",
     "output_type": "stream",
     "text": [
      "The socially optimal tax rate is: 0.5145311213913639\n",
      "The maximum worker utility is: 1.8591992509323028\n"
     ]
    }
   ],
   "source": [
    "import numpy as np\n",
    "import matplotlib.pyplot as plt\n",
    "from scipy.optimize import minimize_scalar\n",
    "\n",
    "# Define the parameter values\n",
    "alpha = 0.5\n",
    "kappa = 1.0\n",
    "nu = 1.0 / (2 * 16**2)\n",
    "w = 1.0\n",
    "\n",
    "# Define the function for calculating the optimal labor supply\n",
    "def optimal_labor_supply(w, kappa, alpha, nu, tau):\n",
    "    tw = (1 - tau) * w\n",
    "    numerator = -kappa + np.sqrt(kappa**2 + 4 * (alpha / nu) * tw**2)\n",
    "    denominator = 2 * tw\n",
    "    return numerator / denominator\n",
    "\n",
    "# Define the function for calculating government consumption\n",
    "def government_consumption(w, tau, L_star):\n",
    "    return tau * w * L_star\n",
    "\n",
    "# Define the function for calculating worker utility\n",
    "def worker_utility(C, G, alpha, nu, L):\n",
    "    return np.log(C**alpha * G**(1 - alpha)) - nu * (L**2) / 2\n",
    "\n",
    "# Define the utility function to maximize\n",
    "def social_utility(tau):\n",
    "    L_star = optimal_labor_supply(w, kappa, alpha, nu, tau)\n",
    "    G = government_consumption(w, tau, L_star)\n",
    "    C = kappa + (1 - tau) * w * L_star\n",
    "    utility = worker_utility(C, G, alpha, nu, L_star)\n",
    "    return -utility  # Negative sign for maximization\n",
    "\n",
    "# Find the socially optimal tax rate\n",
    "result = minimize_scalar(social_utility, bounds=(0, 1), method='bounded')\n",
    "tau_star = result.x\n",
    "max_utility = -result.fun\n",
    "\n",
    "# Plot worker utility as a function of tax rate\n",
    "tau_range = np.linspace(0.01, 0.99, 100)\n",
    "utility_values = np.zeros_like(tau_range)\n",
    "\n",
    "for i, tau in enumerate(tau_range):\n",
    "    utility_values[i] = -social_utility(tau)\n",
    "\n",
    "plt.plot(tau_range, utility_values)\n",
    "plt.scatter(tau_star, max_utility, color='red', label='Max Utility')\n",
    "plt.xlabel('Tax Rate (τ)')\n",
    "plt.ylabel('Worker Utility')\n",
    "plt.title('Worker Utility vs. Tax Rate')\n",
    "plt.legend()\n",
    "plt.show()\n",
    "\n",
    "print(f\"The socially optimal tax rate is: {tau_star}\")\n",
    "print(f\"The maximum worker utility is: {max_utility}\")\n"
   ]
  },
  {
   "cell_type": "markdown",
   "metadata": {},
   "source": [
    "**Intuition for question 4:**\n",
    "The model reveals that the socially optimal tax rate, which maximizes worker utility while considering the government's objective of providing public goods, is found to be approximately 0.515. This tax rate strikes a balance between funding government consumption and maintaining worker incentives.\n",
    "\n",
    "At the socially optimal tax rate, the maximum worker utility achieved is approximately 1.859. This utility represents the highest level of satisfaction or wellfare that a worker can attain under the given model, considering the trade-off between consumption, leisure, and the disutility of labor.\n",
    "\n",
    "The plot of worker utility as a function of the tax rate illustrates this relationship. As the tax rate increases from zero, worker utility initially rises due to the increased provision of public goods, which enhances overall welfare. However, beyond the socially optimal tax rate, worker utility starts to decline as the higher taxes reduce worker incentives and lead to a decrease in private consumption and leisure.\n",
    "\n",
    "The results highlight the importance of striking a balance between government funding and worker wellfare. The socially optimal tax rate achieves the highest overall welfare by maximizing worker utility while providing adequate resources for government consumption. It represents an equilibrium point that promotes both economic efficiency and wellfare.\n",
    "\n",
    "\n",
    "\n",
    "\n",
    "\n"
   ]
  },
  {
   "cell_type": "markdown",
   "metadata": {},
   "source": [
    "A more general preference formulation for the worker is:\n",
    "\n",
    "$$\n",
    "\\begin{align*}\n",
    "\\mathcal{V}(w,\\tau,G)&=\\max_{L\\in[0,24]}\\frac{\\left[ \\left( \\alpha C^{\\frac{\\sigma-1}{\\sigma}}+(1-\\alpha) G^{\\frac{\\sigma-1}{\\sigma}} \\right)^{\\frac{\\sigma}{\\sigma-1} }\\right]^{1-\\rho}-1}{1-\\rho}- \\nu\\frac{L^{1+\\varepsilon}}{1+\\varepsilon},\\,\\,\\,\\varepsilon,\\rho,\\sigma>0,\\,\\,\\,\\rho,\\sigma\\neq1\\\\&\\text{s.t.}\\\\&C=\\kappa+(1-\\tau)wL\n",
    "\\end{align*}    \n",
    "$$\n",
    "\n",
    "Optimal labor supply is now $L^{\\star}(\\tilde{w},G)$."
   ]
  },
  {
   "cell_type": "markdown",
   "metadata": {},
   "source": [
    "Questions 5 and 6 must be answered with the general formulation, and for 2 different set of parameters:\n",
    "\n",
    "- Set 1:  $\\sigma = 1.001$, $\\rho = 1.001$ and $\\varepsilon = 1.0$.\n",
    "- Set 2:  $\\sigma = 1.5$, $\\rho = 1.5$ and $\\varepsilon = 1.0 $."
   ]
  },
  {
   "cell_type": "markdown",
   "metadata": {},
   "source": [
    "**Question 5:** Find the $G$ that solves $G = \\tau w L^{\\star}((1-\\tau)w,G)$ using the $\\tau$ found in question 4.\n",
    "\n",
    "*Hint: First write code that solves the worker problem for given values of $G$ and $\\tau$. Then find the correct G based on this.*"
   ]
  },
  {
   "cell_type": "code",
   "execution_count": 6,
   "metadata": {},
   "outputs": [
    {
     "name": "stdout",
     "output_type": "stream",
     "text": [
      "The value of G that solves the equation for sigma = 1.001 rho = 1.001 epsilon = 1.0 is: 7.711219100254284\n",
      "The value of G that solves the equation for sigma = 1.5 rho = 1.5 epsilon = 1.0 is: 4.975229697093924\n"
     ]
    }
   ],
   "source": [
    "from scipy.optimize import minimize_scalar\n",
    "\n",
    "# Define the utility function for the worker\n",
    "def worker_utility(L, G, tau, sigma, rho, epsilon):\n",
    "    C = kappa + (1 - tau) * w * L\n",
    "    return (((alpha * C**((sigma - 1) / sigma) + (1 - alpha) * G**((sigma - 1) / sigma))**(sigma / (sigma - 1)))**(1 - rho) - 1) / (1 - rho) - nu * (L**(1 + epsilon)) / (1 + epsilon)\n",
    "\n",
    "# Solve the worker problem for given values of G and tau\n",
    "def solve_worker_problem(G, tau, sigma, rho, epsilon):\n",
    "    result = minimize_scalar(lambda L: -worker_utility(L, G, tau, sigma, rho, epsilon), bounds=(0, 24), method='bounded')\n",
    "    return -result.fun, result.x\n",
    "\n",
    "# Set the parameters\n",
    "parameters = [(1.001, 1.001, 1.0), (1.5, 1.5, 1.0)]\n",
    "\n",
    "# Solve for tau using the previously obtained value\n",
    "tau = tau_star\n",
    "\n",
    "# Solve for G using the worker problem for each set of parameters\n",
    "for sigma, rho, epsilon in parameters:\n",
    "    result = minimize_scalar(lambda G: np.abs(G - tau * w * solve_worker_problem(G, tau, sigma, rho, epsilon)[1]), bounds=(0, 10), method='bounded')\n",
    "    G_solution = result.x\n",
    "    print(\"The value of G that solves the equation for sigma =\", sigma, \"rho =\", rho, \"epsilon =\", epsilon, \"is:\", G_solution)\n"
   ]
  },
  {
   "cell_type": "markdown",
   "metadata": {},
   "source": [
    "## 2. <a id='toc2_'></a>[Problem 2: Labor adjustment costs](#toc0_)"
   ]
  },
  {
   "cell_type": "markdown",
   "metadata": {},
   "source": [
    "You own a hair salon. You employ hairdressers, $\\ell_t$, to produce haircuts, $y_t = \\ell_t$.\n",
    "\n",
    "The wage for each haridresser is $w$.\n",
    "\n",
    "The demand for haircuts implies that the price of haircuts you can charge is $p_t = \\kappa_t y_t^{-\\eta}$, where $\\kappa_t$ is a demand-shock and $\\eta \\in (0,1)$ measures the elasticity of demand.\n",
    "\n",
    "Profits are:\n",
    "\n",
    "$$\n",
    "\\Pi_t = p_t y_t - w \\ell_t = \\kappa_t \\ell_t^{1-\\eta} - w \\ell_t\n",
    "$$"
   ]
  },
  {
   "cell_type": "markdown",
   "metadata": {},
   "source": [
    "Baseline parameters are:\n",
    "- $\\eta = 0.5$\n",
    "- $w = 1.0$"
   ]
  },
  {
   "cell_type": "markdown",
   "metadata": {},
   "source": [
    "**Question 1:** Verify numerically that $\\ell_{t}=\\left(\\frac{(1-\\eta)\\kappa_{t}}{w}\\right)^{\\frac{1}{\\eta}}$ maximises profits, for $\\kappa\\in\\left\\{1.0 , 2.0\\right\\}$."
   ]
  },
  {
   "cell_type": "markdown",
   "metadata": {},
   "source": [
    "**We check if the expression actually maximizes the profits by taking first derivative**"
   ]
  },
  {
   "cell_type": "code",
   "execution_count": 7,
   "metadata": {},
   "outputs": [
    {
     "data": {
      "text/plain": [
       "[(kappa*(1 - eta)/w)**(1/eta)]"
      ]
     },
     "execution_count": 7,
     "metadata": {},
     "output_type": "execute_result"
    }
   ],
   "source": [
    "from sympy import symbols, diff, pretty\n",
    "\n",
    "eta, w, kappa, lt = symbols('eta w kappa lt')\n",
    "\n",
    "# Profit function\n",
    "profit_function = kappa * lt**(1-eta) - w * lt\n",
    "\n",
    "# First derivative\n",
    "first_derivative = diff(profit_function, lt)\n",
    "\n",
    "lt = sm.solve(first_derivative, lt)\n",
    "\n",
    "lt"
   ]
  },
  {
   "cell_type": "code",
   "execution_count": 8,
   "metadata": {
    "scrolled": true
   },
   "outputs": [
    {
     "name": "stdout",
     "output_type": "stream",
     "text": [
      "Kappa = 1: Hairdressers = 0.25 Profit function = 0.25\n",
      "Kappa = 2: Hairdressers = 1.0 Profit function = 1.0\n"
     ]
    }
   ],
   "source": [
    "kappa_1 = 1\n",
    "kappa_2 = 2\n",
    "eta = 0.5\n",
    "w = 1\n",
    "\n",
    "#Hairdressers:\n",
    "\n",
    "result_1 = ((kappa_1 * (1 - eta) / w) ** (1 / eta))\n",
    "result_2 = ((kappa_2 * (1 - eta) / w) ** (1 / eta))\n",
    "\n",
    "\n",
    "# Profit for that amount of hairdressers\n",
    "\n",
    "profit_function_1 = kappa_1 * result_1**(1 - eta) - w * result_1\n",
    "profit_function_2 = kappa_2 * result_2**(1 - eta) - w * result_2\n",
    "\n",
    "print(\"Kappa = 1: Hairdressers =\", result_1, \"Profit function =\", profit_function_1)\n",
    "print(\"Kappa = 2: Hairdressers =\", result_2, \"Profit function =\", profit_function_2)\n"
   ]
  },
  {
   "cell_type": "markdown",
   "metadata": {},
   "source": [
    "We now consider a *dynamic* version of the model.\n",
    "\n",
    "* The demand-shock is a so-called AR(1) in logs, \n",
    "\n",
    "$$\n",
    "\\log \\kappa_{t} = \\rho \\log \\kappa_{t-1} + \\epsilon_{t},\\,\\,\\, \\epsilon_{t+1} \\sim \\mathcal{N}(-0.5\\sigma_{\\epsilon}^2,\\sigma_{\\epsilon})\n",
    "$$\n",
    "\n",
    "* Any hiring or firing implies a fixed adjustment cost, $\\iota > 0 $.\n",
    "* Future profits are discounted with a monthly factor of $R \\in (0,1)$.\n",
    "\n",
    "The initial demand shock is $\\kappa_{-1} = 1$ and the planning horizon is 10 years, i.e. 120 months so $t \\in \\{0,1,2,\\dots,119\\}$. Initially you don't have any employees, $\\ell_{-1}=0$"
   ]
  },
  {
   "cell_type": "markdown",
   "metadata": {},
   "source": [
    "\n",
    "The *ex post* value of the salon is *conditional* on the shock series is:\n",
    "\n",
    "$$\n",
    "h(\\epsilon_0,\\epsilon_1,\\dots,\\epsilon_{119}) = \\left[\\sum_{t=0}^{119}R^{-t}\\left[\\kappa_{t}\\ell_{t}^{1-\\eta}-w\\ell_{t}-\\boldsymbol{1}_{\\ell_{t}\\neq\\ell_{t-1}}\\iota\\right]\\right]\n",
    "$$\n",
    "\n",
    "The *ex ante* expected value of the salon can be approximated by\n",
    "\n",
    "$$\n",
    "H = \\mathbb{E}[h(\\epsilon_0,\\epsilon_1,\\dots,\\epsilon_{119})] \\approx \\frac{1}{K}\\sum_{k=0}^{K} h(\\epsilon_0^k,\\epsilon_1^k,\\dots,\\epsilon_{119}^k)\n",
    "$$\n",
    "\n",
    "where each $k\\in\\{0,1,\\dots,K-1\\}$ is a random shock series. Maximizing profitability means maximizing $H$.\n"
   ]
  },
  {
   "cell_type": "markdown",
   "metadata": {},
   "source": [
    "Baseline parameters are: \n",
    "\n",
    "- $\\rho = 0.90$\n",
    "- $\\iota = 0.01$\n",
    "- $\\sigma_{\\epsilon} = 0.10$\n",
    "- $R = \\left(1+0.01\\right)^{1/12}$"
   ]
  },
  {
   "cell_type": "markdown",
   "metadata": {},
   "source": [
    "**Question 2:** Calculate $H$ if the policy  $\\ell_{t}=\\left(\\frac{(1-\\eta)\\kappa_{t}}{w}\\right)^{\\frac{1}{\\eta}}$ from question 1 is followed. Choose $K$ so the approximation is good enough to not affect your results substantially."
   ]
  },
  {
   "cell_type": "code",
   "execution_count": 12,
   "metadata": {},
   "outputs": [
    {
     "name": "stdout",
     "output_type": "stream",
     "text": [
      "H = 27.7927\n"
     ]
    }
   ],
   "source": [
    "import numpy as np\n",
    "import scipy.optimize as optimize\n",
    "\n",
    "# Parameters\n",
    "eta = 0.5\n",
    "w = 1.0\n",
    "rho = 0.9\n",
    "iota = 0.01\n",
    "sigma_epsilon = 0.1\n",
    "R = (1 + 0.01)**(1/12)\n",
    "T = 120\n",
    "K = 1000  # Number of shock series to simulate\n",
    "\n",
    "# Function to calculate profits\n",
    "def calculate_profit(ell_t, kappa_t):\n",
    "    p_t = kappa_t * ell_t**(-eta)\n",
    "    return p_t * ell_t - w * ell_t\n",
    "\n",
    "# Function to maximize profit\n",
    "def maximize_profit(kappa_t):\n",
    "    objective = lambda ell_t: -calculate_profit(ell_t, kappa_t)\n",
    "    initial_guess = (1 - eta) * kappa_t / w  # Initial guess for ell_t\n",
    "    result = optimize.minimize_scalar(objective, method='bounded', bounds=(0, initial_guess))\n",
    "    return result.x\n",
    "\n",
    "# Function to calculate the ex-post value of the salon for a given shock series\n",
    "def calculate_h(epsilon_series):\n",
    "    ell_prev = 0  # Initial number of employees\n",
    "    h_value = 0\n",
    "    for t in range(T):\n",
    "        kappa_t = np.exp(rho * np.log(kappa_prev) + epsilon_series[t])\n",
    "        ell_t = maximize_profit(kappa_t)\n",
    "        adjustment_cost = 0 if ell_t == ell_prev else iota\n",
    "        profit = calculate_profit(ell_t, kappa_t) - adjustment_cost\n",
    "        h_value += R**(-t) * profit\n",
    "        ell_prev = ell_t\n",
    "        kappa_prev = kappa_t\n",
    "    return h_value\n",
    "\n",
    "# Simulation\n",
    "np.random.seed(42)  # Random seed to reproduce. The number 42 if you know, you know. :)\n",
    "h_values = []\n",
    "for k in range(K):\n",
    "    epsilon_series = np.random.normal(loc=-0.5 * sigma_epsilon**2, scale=sigma_epsilon, size=T)\n",
    "    ell_prev = 0  # Initialize ell_prev\n",
    "    kappa_prev = 1.0  # Initialize kappa_prev\n",
    "    h_value = 0\n",
    "    for t in range(T):\n",
    "        kappa_t = np.exp(rho * np.log(kappa_prev) + epsilon_series[t])\n",
    "        ell_t = maximize_profit(kappa_t)\n",
    "        adjustment_cost = 0 if ell_t == ell_prev else iota\n",
    "        profit = calculate_profit(ell_t, kappa_t) - adjustment_cost\n",
    "        h_value += R**(-t) * profit\n",
    "        ell_prev = ell_t\n",
    "        kappa_prev = kappa_t\n",
    "    h_values.append(h_value)\n",
    "\n",
    "# Calculate the expected value of the salon\n",
    "H = np.mean(h_values)\n",
    "\n",
    "print(f\"H = {H:.4f}\")"
   ]
  },
  {
   "cell_type": "code",
   "execution_count": null,
   "metadata": {},
   "outputs": [],
   "source": []
  },
  {
   "cell_type": "markdown",
   "metadata": {},
   "source": [
    "Next, we consider policies on the form:\n",
    "\n",
    "$$\n",
    "\\ell_{t}=\\begin{cases}\n",
    "\\ell_t^{\\ast}  & \\text{if }\\left|\\ell_{t-1}-\\ell_t^{\\ast} \\right|>\\Delta\\\\\n",
    "\\ell_{t-1} & \\text{else }\n",
    "\\end{cases}\n",
    "\\\\\n",
    "\\text{where}\\,\\,\\ell_t^{\\ast} = \\left(\\frac{(1-\\eta)\\kappa_{t}}{w}\\right)^{\\frac{1}{\\eta}} \\\\\n",
    "$$\n",
    "\n",
    "With $\\Delta \\geq 0$ and $\\Delta = 0$ being the previous policy.\n"
   ]
  },
  {
   "cell_type": "markdown",
   "metadata": {},
   "source": [
    "\n",
    "**Question 3:** Calculate $H$ if the policy above was followed with $\\Delta = 0.05$. Does it improve profitability?"
   ]
  },
  {
   "cell_type": "code",
   "execution_count": 13,
   "metadata": {},
   "outputs": [
    {
     "name": "stdout",
     "output_type": "stream",
     "text": [
      "H with updated policy (Delta = 0.05) = 28.4990\n",
      "H with previous policy (Delta = 0.00) = 27.5775\n"
     ]
    }
   ],
   "source": [
    "# Parameters\n",
    "delta = 0.05\n",
    "\n",
    "# Function to determine the number of employees using the updated policy\n",
    "def determine_employees(ell_t, ell_ast):\n",
    "    if delta > 0 and abs(ell_t - ell_ast) > delta:\n",
    "        return ell_ast\n",
    "    else:\n",
    "        return ell_t\n",
    "\n",
    "# Function to calculate the ex-post value of the salon for a given shock series using the updated policy\n",
    "def calculate_h_updated(epsilon_series):\n",
    "    ell_prev = 0  # Initial number of employees\n",
    "    kappa_prev = 1.0  # Initialize kappa_prev\n",
    "    h_value = 0\n",
    "    for t in range(T):\n",
    "        kappa_t = np.exp(rho * np.log(kappa_prev) + epsilon_series[t])\n",
    "        ell_ast = maximize_profit(kappa_t)\n",
    "        ell_t = determine_employees(ell_prev, ell_ast)\n",
    "        adjustment_cost = 0 if ell_t == ell_prev else iota\n",
    "        profit = calculate_profit(ell_t, kappa_t) - adjustment_cost\n",
    "        h_value += R**(-t) * profit\n",
    "        ell_prev = ell_t\n",
    "        kappa_prev = kappa_t\n",
    "    return h_value\n",
    "\n",
    "# Simulation with the updated policy (Delta = 0.05)\n",
    "np.random.seed(42)  # Same as before :)\n",
    "h_values_updated = []\n",
    "kappa_prev = 1.0  # Initialize kappa_prev\n",
    "for k in range(K):\n",
    "    epsilon_series = np.random.normal(loc=-0.5 * sigma_epsilon**2, scale=sigma_epsilon, size=T)\n",
    "    h_values_updated.append(calculate_h_updated(epsilon_series))\n",
    "\n",
    "# Calculate the expected value of the salon with the updated policy (Delta = 0.05)\n",
    "H_updated = np.mean(h_values_updated)\n",
    "\n",
    "# Calculate H with the previous policy (Delta = 0.00)\n",
    "h_values_previous = []\n",
    "kappa_prev = 1.0  # Initialize kappa_prev\n",
    "for k in range(K):\n",
    "    epsilon_series = np.random.normal(loc=-0.5 * sigma_epsilon**2, scale=sigma_epsilon, size=T)\n",
    "    ell_prev = 0  # Initial number of employees\n",
    "    h_value = 0\n",
    "    for t in range(T):\n",
    "        kappa_t = np.exp(rho * np.log(kappa_prev) + epsilon_series[t])\n",
    "        ell_t = maximize_profit(kappa_t)\n",
    "        adjustment_cost = 0 if ell_t == ell_prev else iota\n",
    "        profit = calculate_profit(ell_t, kappa_t) - adjustment_cost\n",
    "        h_value += R**(-t) * profit\n",
    "        ell_prev = ell_t\n",
    "        kappa_prev = kappa_t\n",
    "    h_values_previous.append(h_value)\n",
    "\n",
    "\n",
    "print(f\"H with updated policy (Delta = 0.05) = {H_updated:.4f}\")\n",
    "\n",
    "\n",
    "  \n"
   ]
  },
  {
   "cell_type": "markdown",
   "metadata": {},
   "source": [
    "The new policy did increase the profits but ex ante and ex post. The realised profits is now  higher. However, the difference isn't thar large. Notice, K has a large influence on these numbers.\n",
    "<br>[We also expect the values are incorrect]"
   ]
  },
  {
   "cell_type": "markdown",
   "metadata": {},
   "source": [
    "---"
   ]
  },
  {
   "cell_type": "markdown",
   "metadata": {},
   "source": [
    "**Question 4:** Find the optimal $\\Delta$ maximizing $H$. Illustrate your result."
   ]
  },
  {
   "cell_type": "code",
   "execution_count": 29,
   "metadata": {},
   "outputs": [
    {
     "name": "stdout",
     "output_type": "stream",
     "text": [
      "H with updated policy (Delta = 0.01) = 27.9213\n",
      "\n",
      "H with updated policy (Delta = 0.05) = 28.4309\n",
      "\n",
      "H with updated policy (Delta = 0.10) = 28.4945\n",
      "\n",
      "H with updated policy (Delta = 0.20) = 27.6575\n",
      "\n"
     ]
    },
    {
     "data": {
      "image/png": "[encoded data removed]",
      "text/plain": [
       "<Figure size 432x288 with 1 Axes>"
      ]
     },
     "metadata": {},
     "output_type": "display_data"
    }
   ],
   "source": [
    "import numpy as np\n",
    "import matplotlib.pyplot as plt\n",
    "\n",
    "# Parameters\n",
    "deltas = [0.01, 0.05, 0.1, 0.2]  # List of different delta values\n",
    "expected_values_updated = []  # List to store expected values for updated policy\n",
    "\n",
    "# Function to determine the number of employees using the updated policy\n",
    "def determine_employees(ell_t, ell_ast, delta):\n",
    "    return ell_ast if delta > 0 and abs(ell_t - ell_ast) > delta else ell_t\n",
    "\n",
    "# Function to calculate the ex-post value of the salon for a given shock series using the updated policy\n",
    "def calculate_h_updated(epsilon_series, delta):\n",
    "    ell_prev, kappa_prev, h_value = 0, 1.0, 0\n",
    "    for t in range(T):\n",
    "        kappa_t = np.exp(rho * np.log(kappa_prev) + epsilon_series[t])\n",
    "        ell_ast = maximize_profit(kappa_t)\n",
    "        ell_t = determine_employees(ell_prev, ell_ast, delta)\n",
    "        adjustment_cost = 0 if ell_t == ell_prev else iota\n",
    "        profit = calculate_profit(ell_t, kappa_t) - adjustment_cost\n",
    "        h_value += R**(-t) * profit\n",
    "        ell_prev, kappa_prev = ell_t, kappa_t\n",
    "    return h_value\n",
    "\n",
    "# Updated calculate_profit() function\n",
    "def calculate_profit(ell_t, kappa_t):\n",
    "    if ell_t == 0.0:\n",
    "        return 0.0  # or any other suitable value\n",
    "    else:\n",
    "        p_t = kappa_t * ell_t**(-eta)\n",
    "        return p_t * ell_t - w * ell_t\n",
    "\n",
    "# Calculate the expected values for different delta values\n",
    "for delta in deltas:\n",
    "    expected_value_updated = np.mean([\n",
    "        calculate_h_updated(\n",
    "            np.random.normal(loc=-0.5 * sigma_epsilon**2, scale=sigma_epsilon, size=T),\n",
    "            delta\n",
    "        ) for _ in range(K)\n",
    "    ])\n",
    "    expected_values_updated.append(expected_value_updated)\n",
    "\n",
    "# Print the results\n",
    "for delta, H_updated in zip(deltas, expected_values_updated):\n",
    "    print(f\"H with updated policy (Delta = {delta:.2f}) = {H_updated:.4f}\")\n",
    "    print()\n",
    "\n",
    "# Plot the expected values\n",
    "plt.plot(deltas, expected_values_updated, label='Updated Policy')\n",
    "plt.xlabel('Delta')\n",
    "plt.ylabel('Expected Value')\n",
    "plt.title('Expected Value vs Delta')\n",
    "plt.legend()\n",
    "plt.show()\n"
   ]
  },
  {
   "cell_type": "markdown",
   "metadata": {},
   "source": [
    "\n",
    "**Question 5:** Suggest an alternative policy you believe might improve profitability. Implement and test your policy.\n",
    "\n"
   ]
  },
  {
   "cell_type": "markdown",
   "metadata": {},
   "source": [
    "An alternative policy is to either remove/adjust the adjustment cost, or restrict firing.\n",
    "\n",
    "We will try to improve profitability, by removing the adjustment cost. \n"
   ]
  },
  {
   "cell_type": "code",
   "execution_count": 23,
   "metadata": {},
   "outputs": [],
   "source": [
    "rho = 0.90\n",
    "iota = 0 # We set this to zero, to remove the adjustment cost.\n",
    "sigma_epsilon = 0.10\n",
    "R = (1 + 0.01)**(1/12)\n",
    "eta = 0.5\n",
    "w = 1.0\n",
    "delta = 0 # we set delta to 0 again. Or one could run the model without delta,"
   ]
  },
  {
   "cell_type": "code",
   "execution_count": 24,
   "metadata": {},
   "outputs": [
    {
     "name": "stdout",
     "output_type": "stream",
     "text": [
      "H = 28.9354\n"
     ]
    }
   ],
   "source": [
    "### Code from 2.2\n",
    "\n",
    "# Function to calculate profits\n",
    "def calculate_profit(ell_t, kappa_t):\n",
    "    p_t = kappa_t * ell_t**(-eta)\n",
    "    return p_t * ell_t - w * ell_t\n",
    "\n",
    "# Function to maximize profit\n",
    "def maximize_profit(kappa_t):\n",
    "    objective = lambda ell_t: -calculate_profit(ell_t, kappa_t)\n",
    "    initial_guess = (1 - eta) * kappa_t / w  # Initial guess for ell_t\n",
    "    result = optimize.minimize_scalar(objective, method='bounded', bounds=(0, initial_guess))\n",
    "    return result.x\n",
    "\n",
    "# Function to calculate the ex-post value of the salon for a given shock series\n",
    "def calculate_h(epsilon_series):\n",
    "    ell_prev = 0  # Initial number of employees\n",
    "    h_value = 0\n",
    "    for t in range(T):\n",
    "        kappa_t = np.exp(rho * np.log(kappa_prev) + epsilon_series[t])\n",
    "        ell_t = maximize_profit(kappa_t)\n",
    "        adjustment_cost = 0 if ell_t == ell_prev else iota\n",
    "        profit = calculate_profit(ell_t, kappa_t) - adjustment_cost\n",
    "        h_value += R**(-t) * profit\n",
    "        ell_prev = ell_t\n",
    "        kappa_prev = kappa_t\n",
    "    return h_value\n",
    "\n",
    "# Simulation\n",
    "np.random.seed(42)  # Random seed to reproduce. The number 42 if you know, you know. :)\n",
    "h_values = []\n",
    "for k in range(K):\n",
    "    epsilon_series = np.random.normal(loc=-0.5 * sigma_epsilon**2, scale=sigma_epsilon, size=T)\n",
    "    ell_prev = 0  # Initialize ell_prev\n",
    "    kappa_prev = 1.0  # Initialize kappa_prev\n",
    "    h_value = 0\n",
    "    for t in range(T):\n",
    "        kappa_t = np.exp(rho * np.log(kappa_prev) + epsilon_series[t])\n",
    "        ell_t = maximize_profit(kappa_t)\n",
    "        adjustment_cost = 0 if ell_t == ell_prev else iota\n",
    "        profit = calculate_profit(ell_t, kappa_t) - adjustment_cost\n",
    "        h_value += R**(-t) * profit\n",
    "        ell_prev = ell_t\n",
    "        kappa_prev = kappa_t\n",
    "    h_values.append(h_value)\n",
    "\n",
    "# Calculate the expected value of the salon\n",
    "H = np.mean(h_values)\n",
    "\n",
    "print(f\"H = {H:.4f}\")"
   ]
  },
  {
   "cell_type": "markdown",
   "metadata": {},
   "source": [
    "It is obvious the profit has increased from before H with updated policy [(Delta = 0.05) = 28.4990\n",
    "H with previous policy (Delta = 0.00) = 27.5775]. \n",
    "This make sense, since we are removing a restriction. We are removing fricition in the economy, and making adjustments more fluid. We believe, if we removed firin the profit would have decreased. \n",
    "\n",
    "The profit is now higher than we the model had delta, for all values of delta."
   ]
  },
  {
   "cell_type": "markdown",
   "metadata": {},
   "source": [
    "## 3. <a id='toc3_'></a>[Problem 3: Global optimizer with refined multi-start](#toc0_)"
   ]
  },
  {
   "cell_type": "markdown",
   "metadata": {},
   "source": [
    "We consider the Griewank function:\n",
    "\n",
    "$$ f(\\boldsymbol{x}) = \\sum^n_{i=1} \\frac{x^2_i}{4000}-\\prod^n_{i=1}\\cos\\left(\\frac{x_i}{\\sqrt{i}}\\right)+1$$\n",
    "\n",
    "The **global minimum** of this function is $f(0,0) = 0$ (remember: $\\cos(0)=1$).<br>\n",
    "But the function also have a lot of **local minima**."
   ]
  },
  {
   "cell_type": "code",
   "execution_count": 32,
   "metadata": {},
   "outputs": [],
   "source": [
    "def griewank(x):\n",
    "    return griewank_(x[0],x[1])\n",
    "    \n",
    "def griewank_(x1,x2):\n",
    "    A = x1**2/4000 + x2**2/4000\n",
    "    B = np.cos(x1/np.sqrt(1))*np.cos(x2/np.sqrt(2))\n",
    "    return A-B+1"
   ]
  },
  {
   "cell_type": "markdown",
   "metadata": {},
   "source": [
    "A **refined global optimizer with multi-start** is:\n",
    "\n",
    "1. Choose *bounds* for $\\mathbf{x}$ and *tolerance* $\\tau > 0$.\n",
    "2. Choose number of *warm-up iterations*, $\\underline{K} > 0$ and *maximum number of iterations*, $K > \\underline{K}$.\n",
    "3. In each iteration for $k \\in \\{0,1,\\dots,K-1\\}$:\n",
    "\n",
    "    A. Draw random $\\mathbf{x}^k$ uniformly within chosen bounds.\n",
    "\n",
    "    B. If $k < \\underline{K}$ go to step E.\n",
    "\n",
    "    C. Calculate $\\chi^k = 0.50\\cdot\\frac{2}{1+\\exp((k-\\underline{K})/100)}$  \n",
    "\n",
    "    D. Set $\\mathbf{x}^{k0} = \\chi^k \\mathbf{x}^k + (1-\\chi^k)\\mathbf{x}^{\\ast} $\n",
    "\n",
    "    E. Run optimizer with $\\mathbf{x}^{k0}$ as initial guess and $\\mathbf{x}^{k\\ast}$ as result.\n",
    "\n",
    "    F. Set $\\mathbf{x}^{\\ast} = \\mathbf{x}^{k\\ast}$ if $k = 0$ or $f(\\mathbf{x}^{k\\ast}) < f(\\mathbf{x}^{\\ast})$\n",
    "\n",
    "    G. If $f(\\mathbf{x}^{\\ast}) < \\tau$ go to step 4.\n",
    "\n",
    "4. Return the result $\\mathbf{x}^{\\ast}$."
   ]
  },
  {
   "cell_type": "markdown",
   "metadata": {},
   "source": [
    "As settings we choose:\n",
    "\n",
    "* $x_1,x_2 \\in  [-600,600]$\n",
    "* $\\tau = 10^{-8}$\n",
    "* $\\underline{K}=10$\n",
    "* $K=1000$\n",
    "\n",
    "The optimizer in Step 3.E is `BFGS` with a tolerance of $\\tau$."
   ]
  },
  {
   "cell_type": "markdown",
   "metadata": {},
   "source": [
    "**Question 1:** Implement the refined global optimizer with multi-start. Illustrate how the effective initial guesses $\\mathbf{x}^{k0}$ vary with the iteration counter $k$."
   ]
  },
  {
   "cell_type": "code",
   "execution_count": 30,
   "metadata": {
    "scrolled": true
   },
   "outputs": [
    {
     "name": "stdout",
     "output_type": "stream",
     "text": [
      "Best solution found is  [-8.62763729e-09 -6.20979594e-09]\n"
     ]
    },
    {
     "data": {
      "image/png": "[encoded data removed]",
      "text/plain": [
       "<Figure size 576x360 with 1 Axes>"
      ]
     },
     "metadata": {},
     "output_type": "display_data"
    }
   ],
   "source": [
    "import numpy as np\n",
    "import matplotlib.pyplot as plt\n",
    "from scipy.optimize import minimize\n",
    "from matplotlib.colors import LogNorm\n",
    "from mpl_toolkits.mplot3d import Axes3D\n",
    "\n",
    "def griewank(x):\n",
    "    A = x[0]**2/4000 + x[1]**2/4000\n",
    "    B = np.cos(x[0]/np.sqrt(1))*np.cos(x[1]/np.sqrt(2))\n",
    "    return A - B + 1\n",
    "\n",
    "lower_bound = -600\n",
    "upper_bound = 600\n",
    "tau = 1e-8\n",
    "K_warmup = 10\n",
    "K = 1000\n",
    "x_star = None\n",
    "found_minima = []\n",
    "\n",
    "for k in range(K):\n",
    "    x_k = np.random.uniform(lower_bound, upper_bound, 2)\n",
    "\n",
    "    if k >= K_warmup:\n",
    "        chi_k = 0.5 * (2 / (1 + np.exp((k-K_warmup)/100)))\n",
    "        x_k0 = chi_k * x_k + (1 - chi_k) * x_star\n",
    "    else:\n",
    "        x_k0 = x_k\n",
    "\n",
    "    res = minimize(griewank, x_k0, method='BFGS', tol=tau)\n",
    "\n",
    "    if x_star is None or griewank(res.x) < griewank(x_star):\n",
    "        x_star = res.x\n",
    "        found_minima.append(x_star)\n",
    "\n",
    "    if griewank(x_star) < tau:\n",
    "        break\n",
    "\n",
    "print(\"Best solution found is \", x_star)\n",
    "\n",
    "# Generating coordinates for surface plot\n",
    "x = np.linspace(lower_bound, upper_bound, 100)\n",
    "y = np.linspace(lower_bound, upper_bound, 100)\n",
    "x, y = np.meshgrid(x, y)\n",
    "z = griewank([x, y])\n",
    "\n",
    "# Plotting\n",
    "fig = plt.figure(figsize=(8, 5))\n",
    "ax = plt.axes(projection='3d', elev=50, azim=-50)\n",
    "\n",
    "ax.plot_surface(x, y, z, norm=LogNorm(), rstride=1, cstride=1, edgecolor='none', alpha=.8, cmap=plt.cm.jet)\n",
    "\n",
    "# Plotting found minima\n",
    "x_coords = [minima[0] for minima in found_minima]\n",
    "y_coords = [minima[1] for minima in found_minima]\n",
    "z_coords = [griewank(minima) for minima in found_minima]\n",
    "ax.plot(x_coords, y_coords, z_coords, 'r*', markersize=10)\n",
    "\n",
    "ax.set_xlabel('$x$')\n",
    "ax.set_ylabel('$y$')\n",
    "ax.set_zlabel('$z$')\n",
    "\n",
    "ax.set_xlim((lower_bound, upper_bound))\n",
    "ax.set_ylim((lower_bound, upper_bound))\n",
    "\n",
    "plt.show()\n"
   ]
  },
  {
   "cell_type": "markdown",
   "metadata": {},
   "source": [
    "**Question 2:** Is it a better idea to set $\\underline{K} = 100$? Is the convergence faster?"
   ]
  },
  {
   "cell_type": "code",
   "execution_count": 31,
   "metadata": {},
   "outputs": [
    {
     "name": "stdout",
     "output_type": "stream",
     "text": [
      "Average iterations for K_warmup = 10: 322.66\n",
      "Average iterations for K_warmup = 100: 426.32\n"
     ]
    }
   ],
   "source": [
    "import numpy as np\n",
    "import matplotlib.pyplot as plt\n",
    "from scipy.optimize import minimize\n",
    "\n",
    "def griewank(x):\n",
    "    A = x[0]**2/4000 + x[1]**2/4000\n",
    "    B = np.cos(x[0]/np.sqrt(1))*np.cos(x[1]/np.sqrt(2))\n",
    "    return A - B + 1\n",
    "\n",
    "def optimizer(K_warmup):\n",
    "    lower_bound = -600\n",
    "    upper_bound = 600\n",
    "    tau = 1e-8\n",
    "    K = 1000\n",
    "    x_star = None\n",
    "\n",
    "    for k in range(K):\n",
    "        x_k = np.random.uniform(lower_bound, upper_bound, 2)\n",
    "\n",
    "        if k >= K_warmup:\n",
    "            chi_k = 0.5 * (2 / (1 + np.exp((k-K_warmup)/100)))\n",
    "            x_k0 = chi_k * x_k + (1 - chi_k) * x_star\n",
    "        else:\n",
    "            x_k0 = x_k\n",
    "\n",
    "        res = minimize(griewank, x_k0, method='BFGS', tol=tau)\n",
    "\n",
    "        if x_star is None or griewank(res.x) < griewank(x_star):\n",
    "            x_star = res.x\n",
    "\n",
    "        if griewank(x_star) < tau:\n",
    "            return k  # Return the number of iterations taken\n",
    "\n",
    "    return K  # If not found within K iterations\n",
    "\n",
    "# Compare K_warmup = 10 and K_warmup = 100\n",
    "results_10 = [optimizer(10) for _ in range(50)]\n",
    "results_100 = [optimizer(100) for _ in range(50)]\n",
    "\n",
    "# Calculate average number of iterations for each\n",
    "avg_10 = np.mean(results_10)\n",
    "avg_100 = np.mean(results_100)\n",
    "\n",
    "print(f\"Average iterations for K_warmup = 10: {avg_10}\")\n",
    "print(f\"Average iterations for K_warmup = 100: {avg_100}\")\n"
   ]
  },
  {
   "cell_type": "markdown",
   "metadata": {},
   "source": [
    "When we increase the number of warm-up iterations $\\underline{K}$, we're essentially delaying the refinement process.\n",
    "\n",
    "During the warm-up iterations, we simply take a random guess without any refinement. We just pick a random point in the solution space and test it.\n",
    "\n",
    "After the warm-up period, we start using the current best solution to influence our next guess, making it more likely that we pick a point close to a good solution.\n",
    "\n",
    "By increasing the number of warm-up iterations from 10 to 100, we're increasing the number of iterations where we're just guessing randomly. This means it takes longer until we start using the refined process, which is more efficient at finding good solutions.\n",
    "\n",
    "Therefore, it is reasonable to expect that increasing $\\underline{K}$ can lead to a larger average number of iterations required to find a solution below the tolerance level.\n",
    "\n",
    "However, it's important to note that the trade-off here is between exploration and exploitation. In the warm-up phase, we're exploring the solution space widely, trying to avoid getting stuck in local minima. In the refinement phase, we're exploiting the best solution we've found so far to find even better solutions. The optimal balance between these two depends on the specific problem and can't be determined in advance without some trial and error."
   ]
  },
  {
   "cell_type": "code",
   "execution_count": null,
   "metadata": {},
   "outputs": [],
   "source": []
  }
 ],
 "metadata": {
  "kernelspec": {
   "display_name": "Python 3 (ipykernel)",
   "language": "python",
   "name": "python3"
  },
  "language_info": {
   "codemirror_mode": {
    "name": "ipython",
    "version": 3
   },
   "file_extension": ".py",
   "mimetype": "text/x-python",
   "name": "python",
   "nbconvert_exporter": "python",
   "pygments_lexer": "ipython3",
   "version": "3.9.12"
  }
 },
 "nbformat": 4,
 "nbformat_minor": 2
}
