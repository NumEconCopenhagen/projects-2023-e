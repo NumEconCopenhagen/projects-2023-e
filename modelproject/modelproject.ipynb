{
 "cells": [
  {
   "cell_type": "markdown",
   "metadata": {},
   "source": [
    "# Prediciting Inflation (and evaluating the Phillips Curve)"
   ]
  },
  {
   "cell_type": "markdown",
   "metadata": {},
   "source": [
    "### Packages"
   ]
  },
  {
   "cell_type": "code",
   "execution_count": 1,
   "metadata": {},
   "outputs": [
    {
     "name": "stderr",
     "output_type": "stream",
     "text": [
      "/opt/anaconda3/lib/python3.9/site-packages/statsmodels/compat/pandas.py:61: FutureWarning: pandas.Int64Index is deprecated and will be removed from pandas in a future version. Use pandas.Index with the appropriate dtype instead.\n",
      "  from pandas import Int64Index as NumericIndex\n"
     ]
    }
   ],
   "source": [
    "import pandas as pd\n",
    "import numpy as np\n",
    "import matplotlib.pyplot as plt\n",
    "import ipywidgets as widgets\n",
    "from matplotlib_venn import venn2\n",
    "import pandas_datareader\n",
    "from scipy.optimize import curve_fit\n",
    "import seaborn as sns\n",
    "import datetime\n",
    "import pandas_datareader as pdr\n",
    "from scipy.integrate import simps\n",
    "import statsmodels.formula.api as smf\n",
    "from IPython.display import display\n",
    "from sklearn.linear_model import LinearRegression\n",
    "from sklearn.metrics import mean_squared_error, r2_score\n",
    "from sklearn.model_selection import train_test_split\n",
    "from sklearn.preprocessing import PolynomialFeatures\n",
    "from scipy.optimize import minimize\n",
    "from sklearn.linear_model import ElasticNet\n",
    "\n",
    "from sklearn.ensemble import GradientBoostingRegressor\n",
    "from sklearn.model_selection import GridSearchCV, KFold\n",
    "from sklearn.metrics import mean_squared_error, mean_absolute_error, r2_score\n",
    "\n",
    "# autoreload modules when code is run\n",
    "%load_ext autoreload\n",
    "%autoreload 2\n",
    "\n",
    "# user written modules"
   ]
  },
  {
   "cell_type": "markdown",
   "metadata": {},
   "source": [
    "## Downloading data\n"
   ]
  },
  {
   "cell_type": "code",
   "execution_count": 2,
   "metadata": {
    "scrolled": false
   },
   "outputs": [
    {
     "data": {
      "text/html": [
       "<div>\n",
       "<style scoped>\n",
       "    .dataframe tbody tr th:only-of-type {\n",
       "        vertical-align: middle;\n",
       "    }\n",
       "\n",
       "    .dataframe tbody tr th {\n",
       "        vertical-align: top;\n",
       "    }\n",
       "\n",
       "    .dataframe thead th {\n",
       "        text-align: right;\n",
       "    }\n",
       "</style>\n",
       "<table border=\"1\" class=\"dataframe\">\n",
       "  <thead>\n",
       "    <tr style=\"text-align: right;\">\n",
       "      <th></th>\n",
       "      <th>expected_inflation</th>\n",
       "      <th>unemploy_rate</th>\n",
       "      <th>natural_rate_unemploy</th>\n",
       "      <th>FEDFUNDS</th>\n",
       "      <th>inflation_rate</th>\n",
       "      <th>expected_inflation_lagged</th>\n",
       "      <th>lagged_inflation</th>\n",
       "      <th>unemploy_gap</th>\n",
       "    </tr>\n",
       "    <tr>\n",
       "      <th>DATE</th>\n",
       "      <th></th>\n",
       "      <th></th>\n",
       "      <th></th>\n",
       "      <th></th>\n",
       "      <th></th>\n",
       "      <th></th>\n",
       "      <th></th>\n",
       "      <th></th>\n",
       "    </tr>\n",
       "  </thead>\n",
       "  <tbody>\n",
       "    <tr>\n",
       "      <th>1979-02-28</th>\n",
       "      <td>9.3</td>\n",
       "      <td>5.9</td>\n",
       "      <td>6.235909</td>\n",
       "      <td>10.06</td>\n",
       "      <td>9.841270</td>\n",
       "      <td>6.4</td>\n",
       "      <td>9.250399</td>\n",
       "      <td>-0.335909</td>\n",
       "    </tr>\n",
       "    <tr>\n",
       "      <th>1979-03-31</th>\n",
       "      <td>8.8</td>\n",
       "      <td>5.8</td>\n",
       "      <td>6.235909</td>\n",
       "      <td>10.09</td>\n",
       "      <td>10.252366</td>\n",
       "      <td>6.3</td>\n",
       "      <td>9.841270</td>\n",
       "      <td>-0.435909</td>\n",
       "    </tr>\n",
       "    <tr>\n",
       "      <th>1979-04-30</th>\n",
       "      <td>9.7</td>\n",
       "      <td>5.8</td>\n",
       "      <td>6.232617</td>\n",
       "      <td>10.01</td>\n",
       "      <td>10.485133</td>\n",
       "      <td>6.7</td>\n",
       "      <td>10.252366</td>\n",
       "      <td>-0.432617</td>\n",
       "    </tr>\n",
       "    <tr>\n",
       "      <th>1979-05-31</th>\n",
       "      <td>9.8</td>\n",
       "      <td>5.6</td>\n",
       "      <td>6.232617</td>\n",
       "      <td>10.24</td>\n",
       "      <td>10.697674</td>\n",
       "      <td>6.9</td>\n",
       "      <td>10.485133</td>\n",
       "      <td>-0.632617</td>\n",
       "    </tr>\n",
       "    <tr>\n",
       "      <th>1979-06-30</th>\n",
       "      <td>9.9</td>\n",
       "      <td>5.7</td>\n",
       "      <td>6.232617</td>\n",
       "      <td>10.29</td>\n",
       "      <td>11.076923</td>\n",
       "      <td>6.5</td>\n",
       "      <td>10.697674</td>\n",
       "      <td>-0.532617</td>\n",
       "    </tr>\n",
       "    <tr>\n",
       "      <th>1979-07-31</th>\n",
       "      <td>9.9</td>\n",
       "      <td>5.7</td>\n",
       "      <td>6.228394</td>\n",
       "      <td>10.47</td>\n",
       "      <td>11.450382</td>\n",
       "      <td>6.6</td>\n",
       "      <td>11.076923</td>\n",
       "      <td>-0.528394</td>\n",
       "    </tr>\n",
       "    <tr>\n",
       "      <th>1979-08-31</th>\n",
       "      <td>9.9</td>\n",
       "      <td>6.0</td>\n",
       "      <td>6.228394</td>\n",
       "      <td>10.94</td>\n",
       "      <td>11.836115</td>\n",
       "      <td>8.7</td>\n",
       "      <td>11.450382</td>\n",
       "      <td>-0.228394</td>\n",
       "    </tr>\n",
       "    <tr>\n",
       "      <th>1979-09-30</th>\n",
       "      <td>9.6</td>\n",
       "      <td>5.9</td>\n",
       "      <td>6.228394</td>\n",
       "      <td>11.43</td>\n",
       "      <td>11.879699</td>\n",
       "      <td>6.9</td>\n",
       "      <td>11.836115</td>\n",
       "      <td>-0.328394</td>\n",
       "    </tr>\n",
       "    <tr>\n",
       "      <th>1979-10-31</th>\n",
       "      <td>9.0</td>\n",
       "      <td>6.0</td>\n",
       "      <td>6.223290</td>\n",
       "      <td>13.77</td>\n",
       "      <td>12.071535</td>\n",
       "      <td>7.4</td>\n",
       "      <td>11.879699</td>\n",
       "      <td>-0.223290</td>\n",
       "    </tr>\n",
       "    <tr>\n",
       "      <th>1979-11-30</th>\n",
       "      <td>10.0</td>\n",
       "      <td>5.9</td>\n",
       "      <td>6.223290</td>\n",
       "      <td>13.18</td>\n",
       "      <td>12.592593</td>\n",
       "      <td>7.5</td>\n",
       "      <td>12.071535</td>\n",
       "      <td>-0.323290</td>\n",
       "    </tr>\n",
       "  </tbody>\n",
       "</table>\n",
       "</div>"
      ],
      "text/plain": [
       "            expected_inflation  unemploy_rate  natural_rate_unemploy  \\\n",
       "DATE                                                                   \n",
       "1979-02-28                 9.3            5.9               6.235909   \n",
       "1979-03-31                 8.8            5.8               6.235909   \n",
       "1979-04-30                 9.7            5.8               6.232617   \n",
       "1979-05-31                 9.8            5.6               6.232617   \n",
       "1979-06-30                 9.9            5.7               6.232617   \n",
       "1979-07-31                 9.9            5.7               6.228394   \n",
       "1979-08-31                 9.9            6.0               6.228394   \n",
       "1979-09-30                 9.6            5.9               6.228394   \n",
       "1979-10-31                 9.0            6.0               6.223290   \n",
       "1979-11-30                10.0            5.9               6.223290   \n",
       "\n",
       "            FEDFUNDS  inflation_rate  expected_inflation_lagged  \\\n",
       "DATE                                                              \n",
       "1979-02-28     10.06        9.841270                        6.4   \n",
       "1979-03-31     10.09       10.252366                        6.3   \n",
       "1979-04-30     10.01       10.485133                        6.7   \n",
       "1979-05-31     10.24       10.697674                        6.9   \n",
       "1979-06-30     10.29       11.076923                        6.5   \n",
       "1979-07-31     10.47       11.450382                        6.6   \n",
       "1979-08-31     10.94       11.836115                        8.7   \n",
       "1979-09-30     11.43       11.879699                        6.9   \n",
       "1979-10-31     13.77       12.071535                        7.4   \n",
       "1979-11-30     13.18       12.592593                        7.5   \n",
       "\n",
       "            lagged_inflation  unemploy_gap  \n",
       "DATE                                        \n",
       "1979-02-28          9.250399     -0.335909  \n",
       "1979-03-31          9.841270     -0.435909  \n",
       "1979-04-30         10.252366     -0.432617  \n",
       "1979-05-31         10.485133     -0.632617  \n",
       "1979-06-30         10.697674     -0.532617  \n",
       "1979-07-31         11.076923     -0.528394  \n",
       "1979-08-31         11.450382     -0.228394  \n",
       "1979-09-30         11.836115     -0.328394  \n",
       "1979-10-31         11.879699     -0.223290  \n",
       "1979-11-30         12.071535     -0.323290  "
      ]
     },
     "execution_count": 2,
     "metadata": {},
     "output_type": "execute_result"
    }
   ],
   "source": [
    "start = datetime.datetime(1978,1,1)\n",
    "end = datetime.datetime(2023,3,30)\n",
    "\n",
    "data = pdr.DataReader(['MICH', 'CPIAUCSL', 'UNRATE', 'NROUST', 'FEDFUNDS'], 'fred', start, end)\n",
    "\n",
    "# Resample data to monthly frequency\n",
    "data = data.resample('M').last()\n",
    "\n",
    "# Fill missing values in NROUST column with last known observation\n",
    "data['NROUST'] = data['NROUST'].fillna(method='ffill')\n",
    "\n",
    "data['inflation_rate'] = data['CPIAUCSL'].pct_change(periods=12) * 100 # Yearly inflation rate\n",
    "data['expected_inflation_lagged'] = data['MICH'].shift(12) #The expected inflation is a 12 month forward expectation.\n",
    "#Creating lagged inflation:\n",
    "data['lagged_inflation'] = data['inflation_rate'].shift(1)\n",
    "data = data.drop('CPIAUCSL', axis = 1) # Dropping the old inflation measure\n",
    "data = data.rename(columns={'UNRATE': 'unemploy_rate', 'NROUST': 'natural_rate_unemploy', 'MICH': 'expected_inflation'})\n",
    "\n",
    "## Calculating the unemployment gap:\n",
    "data['unemploy_gap'] = data['unemploy_rate'] - data['natural_rate_unemploy']\n",
    "\n",
    "data.dropna(inplace = True) # Dropping NA values (first 12 months)\n",
    "data.head(10)\n"
   ]
  },
  {
   "attachments": {
    "image.png": {
     "image/png": "[encoded data removed]"
    }
   },
   "cell_type": "markdown",
   "metadata": {},
   "source": [
    "![image.png](attachment:image.png)"
   ]
  },
  {
   "cell_type": "markdown",
   "metadata": {},
   "source": [
    "---"
   ]
  },
  {
   "cell_type": "markdown",
   "metadata": {},
   "source": [
    "## Numerical solution"
   ]
  },
  {
   "cell_type": "markdown",
   "metadata": {},
   "source": [
    "You can always solve a model numerically. \n",
    "\n",
    "Define first the set of parameters you need. \n",
    "\n",
    "Then choose one of the optimization algorithms that we have gone through in the lectures based on what you think is most fitting for your model.\n",
    "\n",
    "Are there any problems with convergence? Does the model converge for all starting values? Make a lot of testing to figure these things out. "
   ]
  },
  {
   "cell_type": "markdown",
   "metadata": {},
   "source": [
    "### Very Simple Philips Cruve\n",
    "**Only inflation and unemployment rate.**"
   ]
  },
  {
   "cell_type": "code",
   "execution_count": 3,
   "metadata": {},
   "outputs": [],
   "source": [
    "X = data['unemploy_rate']\n",
    "y = data['inflation_rate']\n"
   ]
  },
  {
   "cell_type": "code",
   "execution_count": 4,
   "metadata": {},
   "outputs": [
    {
     "data": {
      "text/plain": [
       "<AxesSubplot:xlabel='unemploy_rate', ylabel='inflation_rate'>"
      ]
     },
     "execution_count": 4,
     "metadata": {},
     "output_type": "execute_result"
    },
    {
     "data": {
      "image/png": "[encoded data removed]",
      "text/plain": [
       "<Figure size 432x288 with 1 Axes>"
      ]
     },
     "metadata": {
      "needs_background": "light"
     },
     "output_type": "display_data"
    }
   ],
   "source": [
    "#Exploring\n",
    "sns.scatterplot(x = X, y = y)"
   ]
  },
  {
   "cell_type": "code",
   "execution_count": 5,
   "metadata": {},
   "outputs": [],
   "source": [
    "# Splitting the data.\n",
    "X_train, X_test, y_train, y_test = train_test_split(X, y, test_size=0.4, random_state=42)"
   ]
  },
  {
   "cell_type": "code",
   "execution_count": 6,
   "metadata": {},
   "outputs": [
    {
     "data": {
      "text/plain": [
       "LinearRegression()"
      ]
     },
     "execution_count": 6,
     "metadata": {},
     "output_type": "execute_result"
    }
   ],
   "source": [
    "# Fitting the linear regression model\n",
    "model = LinearRegression()\n",
    "model.fit(X_train.values.reshape(-1,1), y_train)\n"
   ]
  },
  {
   "cell_type": "code",
   "execution_count": 7,
   "metadata": {},
   "outputs": [
    {
     "name": "stdout",
     "output_type": "stream",
     "text": [
      "Mean Squared Error: 11.17910187798732\n",
      "R2 Score: -0.03991120026701167\n"
     ]
    }
   ],
   "source": [
    "y_pred = model.predict(X_test.values.reshape(-1,1))\n",
    "mse = mean_squared_error(y_test, y_pred)\n",
    "r2 = r2_score(y_test, y_pred)\n",
    "print(f'Mean Squared Error: {mse}')\n",
    "print(f'R2 Score: {r2}')\n"
   ]
  },
  {
   "cell_type": "code",
   "execution_count": 8,
   "metadata": {
    "scrolled": true
   },
   "outputs": [
    {
     "data": {
      "image/png": "[encoded data removed]",
      "text/plain": [
       "<Figure size 432x288 with 1 Axes>"
      ]
     },
     "metadata": {
      "needs_background": "light"
     },
     "output_type": "display_data"
    }
   ],
   "source": [
    "plt.scatter(X.values, y, color='blue', linewidths= 0.5, alpha = 0.3)\n",
    "plt.plot(X.values, model.predict(X.values.reshape(-1,1)), color='red')\n",
    "plt.xlabel('Unemployment')\n",
    "plt.ylabel('Inflation')\n",
    "plt.title('Philips Curve')\n",
    "plt.show()\n",
    "\n"
   ]
  },
  {
   "cell_type": "code",
   "execution_count": null,
   "metadata": {},
   "outputs": [],
   "source": []
  },
  {
   "cell_type": "markdown",
   "metadata": {},
   "source": [
    "## Model Coefficent:\n"
   ]
  },
  {
   "cell_type": "code",
   "execution_count": 9,
   "metadata": {},
   "outputs": [
    {
     "data": {
      "text/plain": [
       "array([-0.00902919])"
      ]
     },
     "execution_count": 9,
     "metadata": {},
     "output_type": "execute_result"
    }
   ],
   "source": [
    "model.coef_"
   ]
  },
  {
   "cell_type": "markdown",
   "metadata": {},
   "source": [
    "When unemployment increases with 1 percentage point, nothing really happens with inflation. \n",
    "The standard Phillips Curve seem not longer to be valid. "
   ]
  },
  {
   "cell_type": "markdown",
   "metadata": {},
   "source": [
    "# The model obviously not very good. We will try to solve the model for a more complex Philips Curve now."
   ]
  },
  {
   "cell_type": "markdown",
   "metadata": {},
   "source": [
    "### Expectations-augmented Phillips curve:"
   ]
  },
  {
   "cell_type": "code",
   "execution_count": 10,
   "metadata": {},
   "outputs": [
    {
     "data": {
      "text/html": [
       "<div>\n",
       "<style scoped>\n",
       "    .dataframe tbody tr th:only-of-type {\n",
       "        vertical-align: middle;\n",
       "    }\n",
       "\n",
       "    .dataframe tbody tr th {\n",
       "        vertical-align: top;\n",
       "    }\n",
       "\n",
       "    .dataframe thead th {\n",
       "        text-align: right;\n",
       "    }\n",
       "</style>\n",
       "<table border=\"1\" class=\"dataframe\">\n",
       "  <thead>\n",
       "    <tr style=\"text-align: right;\">\n",
       "      <th></th>\n",
       "      <th>expected_inflation</th>\n",
       "      <th>unemploy_rate</th>\n",
       "      <th>natural_rate_unemploy</th>\n",
       "      <th>FEDFUNDS</th>\n",
       "      <th>inflation_rate</th>\n",
       "      <th>expected_inflation_lagged</th>\n",
       "      <th>lagged_inflation</th>\n",
       "      <th>unemploy_gap</th>\n",
       "    </tr>\n",
       "    <tr>\n",
       "      <th>DATE</th>\n",
       "      <th></th>\n",
       "      <th></th>\n",
       "      <th></th>\n",
       "      <th></th>\n",
       "      <th></th>\n",
       "      <th></th>\n",
       "      <th></th>\n",
       "      <th></th>\n",
       "    </tr>\n",
       "  </thead>\n",
       "  <tbody>\n",
       "    <tr>\n",
       "      <th>1979-02-28</th>\n",
       "      <td>9.3</td>\n",
       "      <td>5.9</td>\n",
       "      <td>6.235909</td>\n",
       "      <td>10.06</td>\n",
       "      <td>9.841270</td>\n",
       "      <td>6.4</td>\n",
       "      <td>9.250399</td>\n",
       "      <td>-0.335909</td>\n",
       "    </tr>\n",
       "    <tr>\n",
       "      <th>1979-03-31</th>\n",
       "      <td>8.8</td>\n",
       "      <td>5.8</td>\n",
       "      <td>6.235909</td>\n",
       "      <td>10.09</td>\n",
       "      <td>10.252366</td>\n",
       "      <td>6.3</td>\n",
       "      <td>9.841270</td>\n",
       "      <td>-0.435909</td>\n",
       "    </tr>\n",
       "    <tr>\n",
       "      <th>1979-04-30</th>\n",
       "      <td>9.7</td>\n",
       "      <td>5.8</td>\n",
       "      <td>6.232617</td>\n",
       "      <td>10.01</td>\n",
       "      <td>10.485133</td>\n",
       "      <td>6.7</td>\n",
       "      <td>10.252366</td>\n",
       "      <td>-0.432617</td>\n",
       "    </tr>\n",
       "    <tr>\n",
       "      <th>1979-05-31</th>\n",
       "      <td>9.8</td>\n",
       "      <td>5.6</td>\n",
       "      <td>6.232617</td>\n",
       "      <td>10.24</td>\n",
       "      <td>10.697674</td>\n",
       "      <td>6.9</td>\n",
       "      <td>10.485133</td>\n",
       "      <td>-0.632617</td>\n",
       "    </tr>\n",
       "    <tr>\n",
       "      <th>1979-06-30</th>\n",
       "      <td>9.9</td>\n",
       "      <td>5.7</td>\n",
       "      <td>6.232617</td>\n",
       "      <td>10.29</td>\n",
       "      <td>11.076923</td>\n",
       "      <td>6.5</td>\n",
       "      <td>10.697674</td>\n",
       "      <td>-0.532617</td>\n",
       "    </tr>\n",
       "    <tr>\n",
       "      <th>...</th>\n",
       "      <td>...</td>\n",
       "      <td>...</td>\n",
       "      <td>...</td>\n",
       "      <td>...</td>\n",
       "      <td>...</td>\n",
       "      <td>...</td>\n",
       "      <td>...</td>\n",
       "      <td>...</td>\n",
       "    </tr>\n",
       "    <tr>\n",
       "      <th>2022-11-30</th>\n",
       "      <td>4.9</td>\n",
       "      <td>3.6</td>\n",
       "      <td>4.431760</td>\n",
       "      <td>3.78</td>\n",
       "      <td>7.135348</td>\n",
       "      <td>4.9</td>\n",
       "      <td>7.762493</td>\n",
       "      <td>-0.831760</td>\n",
       "    </tr>\n",
       "    <tr>\n",
       "      <th>2022-12-31</th>\n",
       "      <td>4.4</td>\n",
       "      <td>3.5</td>\n",
       "      <td>4.431760</td>\n",
       "      <td>4.10</td>\n",
       "      <td>6.444940</td>\n",
       "      <td>4.8</td>\n",
       "      <td>7.135348</td>\n",
       "      <td>-0.931760</td>\n",
       "    </tr>\n",
       "    <tr>\n",
       "      <th>2023-01-31</th>\n",
       "      <td>3.9</td>\n",
       "      <td>3.4</td>\n",
       "      <td>4.428064</td>\n",
       "      <td>4.33</td>\n",
       "      <td>6.347156</td>\n",
       "      <td>4.9</td>\n",
       "      <td>6.444940</td>\n",
       "      <td>-1.028064</td>\n",
       "    </tr>\n",
       "    <tr>\n",
       "      <th>2023-02-28</th>\n",
       "      <td>4.1</td>\n",
       "      <td>3.6</td>\n",
       "      <td>4.428064</td>\n",
       "      <td>4.57</td>\n",
       "      <td>5.986438</td>\n",
       "      <td>4.9</td>\n",
       "      <td>6.347156</td>\n",
       "      <td>-0.828064</td>\n",
       "    </tr>\n",
       "    <tr>\n",
       "      <th>2023-03-31</th>\n",
       "      <td>3.6</td>\n",
       "      <td>3.5</td>\n",
       "      <td>4.428064</td>\n",
       "      <td>4.65</td>\n",
       "      <td>4.986920</td>\n",
       "      <td>5.4</td>\n",
       "      <td>5.986438</td>\n",
       "      <td>-0.928064</td>\n",
       "    </tr>\n",
       "  </tbody>\n",
       "</table>\n",
       "<p>530 rows × 8 columns</p>\n",
       "</div>"
      ],
      "text/plain": [
       "            expected_inflation  unemploy_rate  natural_rate_unemploy  \\\n",
       "DATE                                                                   \n",
       "1979-02-28                 9.3            5.9               6.235909   \n",
       "1979-03-31                 8.8            5.8               6.235909   \n",
       "1979-04-30                 9.7            5.8               6.232617   \n",
       "1979-05-31                 9.8            5.6               6.232617   \n",
       "1979-06-30                 9.9            5.7               6.232617   \n",
       "...                        ...            ...                    ...   \n",
       "2022-11-30                 4.9            3.6               4.431760   \n",
       "2022-12-31                 4.4            3.5               4.431760   \n",
       "2023-01-31                 3.9            3.4               4.428064   \n",
       "2023-02-28                 4.1            3.6               4.428064   \n",
       "2023-03-31                 3.6            3.5               4.428064   \n",
       "\n",
       "            FEDFUNDS  inflation_rate  expected_inflation_lagged  \\\n",
       "DATE                                                              \n",
       "1979-02-28     10.06        9.841270                        6.4   \n",
       "1979-03-31     10.09       10.252366                        6.3   \n",
       "1979-04-30     10.01       10.485133                        6.7   \n",
       "1979-05-31     10.24       10.697674                        6.9   \n",
       "1979-06-30     10.29       11.076923                        6.5   \n",
       "...              ...             ...                        ...   \n",
       "2022-11-30      3.78        7.135348                        4.9   \n",
       "2022-12-31      4.10        6.444940                        4.8   \n",
       "2023-01-31      4.33        6.347156                        4.9   \n",
       "2023-02-28      4.57        5.986438                        4.9   \n",
       "2023-03-31      4.65        4.986920                        5.4   \n",
       "\n",
       "            lagged_inflation  unemploy_gap  \n",
       "DATE                                        \n",
       "1979-02-28          9.250399     -0.335909  \n",
       "1979-03-31          9.841270     -0.435909  \n",
       "1979-04-30         10.252366     -0.432617  \n",
       "1979-05-31         10.485133     -0.632617  \n",
       "1979-06-30         10.697674     -0.532617  \n",
       "...                      ...           ...  \n",
       "2022-11-30          7.762493     -0.831760  \n",
       "2022-12-31          7.135348     -0.931760  \n",
       "2023-01-31          6.444940     -1.028064  \n",
       "2023-02-28          6.347156     -0.828064  \n",
       "2023-03-31          5.986438     -0.928064  \n",
       "\n",
       "[530 rows x 8 columns]"
      ]
     },
     "execution_count": 10,
     "metadata": {},
     "output_type": "execute_result"
    }
   ],
   "source": [
    "data"
   ]
  },
  {
   "cell_type": "markdown",
   "metadata": {},
   "source": [
    "**We are calculating the difference between expected inflation and actual inflation. We calculate the difference, to simply the model solution. We are exploring the expected-augmented Phillips curve to explore the fixed coefficent on the unemployment gap.**"
   ]
  },
  {
   "cell_type": "code",
   "execution_count": 11,
   "metadata": {},
   "outputs": [],
   "source": [
    "data['aug_inflation'] = data['inflation_rate'] - data['expected_inflation']"
   ]
  },
  {
   "cell_type": "code",
   "execution_count": 12,
   "metadata": {},
   "outputs": [],
   "source": [
    "X = data['unemploy_gap'].values\n",
    "y = data['aug_inflation'].values"
   ]
  },
  {
   "cell_type": "code",
   "execution_count": 13,
   "metadata": {},
   "outputs": [],
   "source": [
    "X_train, X_test, y_train, y_test = train_test_split(X, y, test_size=0.4, random_state=42)"
   ]
  },
  {
   "cell_type": "code",
   "execution_count": 14,
   "metadata": {
    "scrolled": true
   },
   "outputs": [
    {
     "data": {
      "text/plain": [
       "LinearRegression()"
      ]
     },
     "execution_count": 14,
     "metadata": {},
     "output_type": "execute_result"
    }
   ],
   "source": [
    "model = LinearRegression()\n",
    "model.fit(X_train.reshape(-1,1), y_train.reshape(-1,1))\n"
   ]
  },
  {
   "cell_type": "code",
   "execution_count": 15,
   "metadata": {},
   "outputs": [
    {
     "name": "stdout",
     "output_type": "stream",
     "text": [
      "Mean Squared Error: 2.773807680188617\n",
      "R2 Score: 0.025704806893122822\n"
     ]
    }
   ],
   "source": [
    "y_pred = model.predict(X_test.reshape(-1,1))\n",
    "mse = mean_squared_error(y_test, y_pred)\n",
    "r2 = r2_score(y_test, y_pred)\n",
    "print(f'Mean Squared Error: {mse}')\n",
    "print(f'R2 Score: {r2}')\n"
   ]
  },
  {
   "cell_type": "code",
   "execution_count": 16,
   "metadata": {
    "scrolled": false
   },
   "outputs": [
    {
     "data": {
      "text/plain": [
       "array([[-0.195826]])"
      ]
     },
     "execution_count": 16,
     "metadata": {},
     "output_type": "execute_result"
    }
   ],
   "source": [
    "model.coef_"
   ]
  },
  {
   "cell_type": "markdown",
   "metadata": {},
   "source": [
    "The model fits betters now. "
   ]
  },
  {
   "cell_type": "code",
   "execution_count": 17,
   "metadata": {
    "scrolled": true
   },
   "outputs": [
    {
     "data": {
      "image/png": "[encoded data removed]",
      "text/plain": [
       "<Figure size 432x288 with 1 Axes>"
      ]
     },
     "metadata": {
      "needs_background": "light"
     },
     "output_type": "display_data"
    }
   ],
   "source": [
    "plt.scatter(X, y, color='blue', linewidths= 0.5, alpha = 0.3)\n",
    "plt.plot(X, model.predict(X.reshape(-1,1)), color='red')\n",
    "plt.xlabel('Unemployment gap')\n",
    "plt.ylabel('Inflation minus expected inflation')\n",
    "plt.title('Augmented Exp. Philips Curve')\n",
    "plt.show()\n",
    "\n"
   ]
  },
  {
   "cell_type": "markdown",
   "metadata": {},
   "source": [
    "The augmented Phillips Curve is way better. It fits more with the traditional theory. "
   ]
  },
  {
   "cell_type": "markdown",
   "metadata": {},
   "source": [
    "## Polynomial Augmented Exp. Phillips Curve"
   ]
  },
  {
   "cell_type": "code",
   "execution_count": 18,
   "metadata": {},
   "outputs": [],
   "source": [
    "X_train, X_test, y_train, y_test = train_test_split(X, y, test_size=0.4, random_state=42)\n"
   ]
  },
  {
   "cell_type": "code",
   "execution_count": 19,
   "metadata": {},
   "outputs": [],
   "source": [
    "poly_features = PolynomialFeatures(degree=2)\n",
    "X_train_poly = poly_features.fit_transform(X_train.reshape(-1,1))\n",
    "X_test_poly = poly_features.transform(X_test.reshape(-1,1))\n"
   ]
  },
  {
   "cell_type": "code",
   "execution_count": 20,
   "metadata": {},
   "outputs": [
    {
     "data": {
      "text/plain": [
       "LinearRegression()"
      ]
     },
     "execution_count": 20,
     "metadata": {},
     "output_type": "execute_result"
    }
   ],
   "source": [
    "model = LinearRegression()\n",
    "model.fit(X_train_poly, y_train)"
   ]
  },
  {
   "cell_type": "code",
   "execution_count": 21,
   "metadata": {},
   "outputs": [
    {
     "name": "stdout",
     "output_type": "stream",
     "text": [
      "Mean Squared Error: 2.758779945725334\n",
      "R2 Score: 0.030983272864443356\n"
     ]
    }
   ],
   "source": [
    "y_pred = model.predict(X_test_poly)\n",
    "mse = mean_squared_error(y_test, y_pred)\n",
    "r2 = r2_score(y_test, y_pred)\n",
    "print(f'Mean Squared Error: {mse}')\n",
    "print(f'R2 Score: {r2}')\n"
   ]
  },
  {
   "cell_type": "code",
   "execution_count": 29,
   "metadata": {
    "scrolled": true
   },
   "outputs": [
    {
     "ename": "ValueError",
     "evalue": "x and y must be the same size",
     "output_type": "error",
     "traceback": [
      "\u001b[0;31m---------------------------------------------------------------------------\u001b[0m",
      "\u001b[0;31mValueError\u001b[0m                                Traceback (most recent call last)",
      "Input \u001b[0;32mIn [29]\u001b[0m, in \u001b[0;36m<cell line: 1>\u001b[0;34m()\u001b[0m\n\u001b[0;32m----> 1\u001b[0m \u001b[43mplt\u001b[49m\u001b[38;5;241;43m.\u001b[39;49m\u001b[43mscatter\u001b[49m\u001b[43m(\u001b[49m\u001b[43mX\u001b[49m\u001b[43m,\u001b[49m\u001b[43m \u001b[49m\u001b[43my\u001b[49m\u001b[43m,\u001b[49m\u001b[43m \u001b[49m\u001b[43mcolor\u001b[49m\u001b[38;5;241;43m=\u001b[39;49m\u001b[38;5;124;43m'\u001b[39;49m\u001b[38;5;124;43mblue\u001b[39;49m\u001b[38;5;124;43m'\u001b[39;49m\u001b[43m)\u001b[49m\n\u001b[1;32m      3\u001b[0m X_plot \u001b[38;5;241m=\u001b[39m np\u001b[38;5;241m.\u001b[39mlinspace(X\u001b[38;5;241m.\u001b[39mmin(), X\u001b[38;5;241m.\u001b[39mmax(), \u001b[38;5;241m100\u001b[39m)\n\u001b[1;32m      4\u001b[0m X_plot_poly \u001b[38;5;241m=\u001b[39m poly_features\u001b[38;5;241m.\u001b[39mtransform(X_plot\u001b[38;5;241m.\u001b[39mreshape(\u001b[38;5;241m-\u001b[39m\u001b[38;5;241m1\u001b[39m, \u001b[38;5;241m1\u001b[39m))\n",
      "File \u001b[0;32m/opt/anaconda3/lib/python3.9/site-packages/matplotlib/pyplot.py:2807\u001b[0m, in \u001b[0;36mscatter\u001b[0;34m(x, y, s, c, marker, cmap, norm, vmin, vmax, alpha, linewidths, edgecolors, plotnonfinite, data, **kwargs)\u001b[0m\n\u001b[1;32m   2802\u001b[0m \u001b[38;5;129m@_copy_docstring_and_deprecators\u001b[39m(Axes\u001b[38;5;241m.\u001b[39mscatter)\n\u001b[1;32m   2803\u001b[0m \u001b[38;5;28;01mdef\u001b[39;00m \u001b[38;5;21mscatter\u001b[39m(\n\u001b[1;32m   2804\u001b[0m         x, y, s\u001b[38;5;241m=\u001b[39m\u001b[38;5;28;01mNone\u001b[39;00m, c\u001b[38;5;241m=\u001b[39m\u001b[38;5;28;01mNone\u001b[39;00m, marker\u001b[38;5;241m=\u001b[39m\u001b[38;5;28;01mNone\u001b[39;00m, cmap\u001b[38;5;241m=\u001b[39m\u001b[38;5;28;01mNone\u001b[39;00m, norm\u001b[38;5;241m=\u001b[39m\u001b[38;5;28;01mNone\u001b[39;00m,\n\u001b[1;32m   2805\u001b[0m         vmin\u001b[38;5;241m=\u001b[39m\u001b[38;5;28;01mNone\u001b[39;00m, vmax\u001b[38;5;241m=\u001b[39m\u001b[38;5;28;01mNone\u001b[39;00m, alpha\u001b[38;5;241m=\u001b[39m\u001b[38;5;28;01mNone\u001b[39;00m, linewidths\u001b[38;5;241m=\u001b[39m\u001b[38;5;28;01mNone\u001b[39;00m, \u001b[38;5;241m*\u001b[39m,\n\u001b[1;32m   2806\u001b[0m         edgecolors\u001b[38;5;241m=\u001b[39m\u001b[38;5;28;01mNone\u001b[39;00m, plotnonfinite\u001b[38;5;241m=\u001b[39m\u001b[38;5;28;01mFalse\u001b[39;00m, data\u001b[38;5;241m=\u001b[39m\u001b[38;5;28;01mNone\u001b[39;00m, \u001b[38;5;241m*\u001b[39m\u001b[38;5;241m*\u001b[39mkwargs):\n\u001b[0;32m-> 2807\u001b[0m     __ret \u001b[38;5;241m=\u001b[39m \u001b[43mgca\u001b[49m\u001b[43m(\u001b[49m\u001b[43m)\u001b[49m\u001b[38;5;241;43m.\u001b[39;49m\u001b[43mscatter\u001b[49m\u001b[43m(\u001b[49m\n\u001b[1;32m   2808\u001b[0m \u001b[43m        \u001b[49m\u001b[43mx\u001b[49m\u001b[43m,\u001b[49m\u001b[43m \u001b[49m\u001b[43my\u001b[49m\u001b[43m,\u001b[49m\u001b[43m \u001b[49m\u001b[43ms\u001b[49m\u001b[38;5;241;43m=\u001b[39;49m\u001b[43ms\u001b[49m\u001b[43m,\u001b[49m\u001b[43m \u001b[49m\u001b[43mc\u001b[49m\u001b[38;5;241;43m=\u001b[39;49m\u001b[43mc\u001b[49m\u001b[43m,\u001b[49m\u001b[43m \u001b[49m\u001b[43mmarker\u001b[49m\u001b[38;5;241;43m=\u001b[39;49m\u001b[43mmarker\u001b[49m\u001b[43m,\u001b[49m\u001b[43m \u001b[49m\u001b[43mcmap\u001b[49m\u001b[38;5;241;43m=\u001b[39;49m\u001b[43mcmap\u001b[49m\u001b[43m,\u001b[49m\u001b[43m \u001b[49m\u001b[43mnorm\u001b[49m\u001b[38;5;241;43m=\u001b[39;49m\u001b[43mnorm\u001b[49m\u001b[43m,\u001b[49m\n\u001b[1;32m   2809\u001b[0m \u001b[43m        \u001b[49m\u001b[43mvmin\u001b[49m\u001b[38;5;241;43m=\u001b[39;49m\u001b[43mvmin\u001b[49m\u001b[43m,\u001b[49m\u001b[43m \u001b[49m\u001b[43mvmax\u001b[49m\u001b[38;5;241;43m=\u001b[39;49m\u001b[43mvmax\u001b[49m\u001b[43m,\u001b[49m\u001b[43m \u001b[49m\u001b[43malpha\u001b[49m\u001b[38;5;241;43m=\u001b[39;49m\u001b[43malpha\u001b[49m\u001b[43m,\u001b[49m\u001b[43m \u001b[49m\u001b[43mlinewidths\u001b[49m\u001b[38;5;241;43m=\u001b[39;49m\u001b[43mlinewidths\u001b[49m\u001b[43m,\u001b[49m\n\u001b[1;32m   2810\u001b[0m \u001b[43m        \u001b[49m\u001b[43medgecolors\u001b[49m\u001b[38;5;241;43m=\u001b[39;49m\u001b[43medgecolors\u001b[49m\u001b[43m,\u001b[49m\u001b[43m \u001b[49m\u001b[43mplotnonfinite\u001b[49m\u001b[38;5;241;43m=\u001b[39;49m\u001b[43mplotnonfinite\u001b[49m\u001b[43m,\u001b[49m\n\u001b[1;32m   2811\u001b[0m \u001b[43m        \u001b[49m\u001b[38;5;241;43m*\u001b[39;49m\u001b[38;5;241;43m*\u001b[39;49m\u001b[43m(\u001b[49m\u001b[43m{\u001b[49m\u001b[38;5;124;43m\"\u001b[39;49m\u001b[38;5;124;43mdata\u001b[39;49m\u001b[38;5;124;43m\"\u001b[39;49m\u001b[43m:\u001b[49m\u001b[43m \u001b[49m\u001b[43mdata\u001b[49m\u001b[43m}\u001b[49m\u001b[43m \u001b[49m\u001b[38;5;28;43;01mif\u001b[39;49;00m\u001b[43m \u001b[49m\u001b[43mdata\u001b[49m\u001b[43m \u001b[49m\u001b[38;5;129;43;01mis\u001b[39;49;00m\u001b[43m \u001b[49m\u001b[38;5;129;43;01mnot\u001b[39;49;00m\u001b[43m \u001b[49m\u001b[38;5;28;43;01mNone\u001b[39;49;00m\u001b[43m \u001b[49m\u001b[38;5;28;43;01melse\u001b[39;49;00m\u001b[43m \u001b[49m\u001b[43m{\u001b[49m\u001b[43m}\u001b[49m\u001b[43m)\u001b[49m\u001b[43m,\u001b[49m\u001b[43m \u001b[49m\u001b[38;5;241;43m*\u001b[39;49m\u001b[38;5;241;43m*\u001b[39;49m\u001b[43mkwargs\u001b[49m\u001b[43m)\u001b[49m\n\u001b[1;32m   2812\u001b[0m     sci(__ret)\n\u001b[1;32m   2813\u001b[0m     \u001b[38;5;28;01mreturn\u001b[39;00m __ret\n",
      "File \u001b[0;32m/opt/anaconda3/lib/python3.9/site-packages/matplotlib/__init__.py:1412\u001b[0m, in \u001b[0;36m_preprocess_data.<locals>.inner\u001b[0;34m(ax, data, *args, **kwargs)\u001b[0m\n\u001b[1;32m   1409\u001b[0m \u001b[38;5;129m@functools\u001b[39m\u001b[38;5;241m.\u001b[39mwraps(func)\n\u001b[1;32m   1410\u001b[0m \u001b[38;5;28;01mdef\u001b[39;00m \u001b[38;5;21minner\u001b[39m(ax, \u001b[38;5;241m*\u001b[39margs, data\u001b[38;5;241m=\u001b[39m\u001b[38;5;28;01mNone\u001b[39;00m, \u001b[38;5;241m*\u001b[39m\u001b[38;5;241m*\u001b[39mkwargs):\n\u001b[1;32m   1411\u001b[0m     \u001b[38;5;28;01mif\u001b[39;00m data \u001b[38;5;129;01mis\u001b[39;00m \u001b[38;5;28;01mNone\u001b[39;00m:\n\u001b[0;32m-> 1412\u001b[0m         \u001b[38;5;28;01mreturn\u001b[39;00m \u001b[43mfunc\u001b[49m\u001b[43m(\u001b[49m\u001b[43max\u001b[49m\u001b[43m,\u001b[49m\u001b[43m \u001b[49m\u001b[38;5;241;43m*\u001b[39;49m\u001b[38;5;28;43mmap\u001b[39;49m\u001b[43m(\u001b[49m\u001b[43msanitize_sequence\u001b[49m\u001b[43m,\u001b[49m\u001b[43m \u001b[49m\u001b[43margs\u001b[49m\u001b[43m)\u001b[49m\u001b[43m,\u001b[49m\u001b[43m \u001b[49m\u001b[38;5;241;43m*\u001b[39;49m\u001b[38;5;241;43m*\u001b[39;49m\u001b[43mkwargs\u001b[49m\u001b[43m)\u001b[49m\n\u001b[1;32m   1414\u001b[0m     bound \u001b[38;5;241m=\u001b[39m new_sig\u001b[38;5;241m.\u001b[39mbind(ax, \u001b[38;5;241m*\u001b[39margs, \u001b[38;5;241m*\u001b[39m\u001b[38;5;241m*\u001b[39mkwargs)\n\u001b[1;32m   1415\u001b[0m     auto_label \u001b[38;5;241m=\u001b[39m (bound\u001b[38;5;241m.\u001b[39marguments\u001b[38;5;241m.\u001b[39mget(label_namer)\n\u001b[1;32m   1416\u001b[0m                   \u001b[38;5;129;01mor\u001b[39;00m bound\u001b[38;5;241m.\u001b[39mkwargs\u001b[38;5;241m.\u001b[39mget(label_namer))\n",
      "File \u001b[0;32m/opt/anaconda3/lib/python3.9/site-packages/matplotlib/axes/_axes.py:4369\u001b[0m, in \u001b[0;36mAxes.scatter\u001b[0;34m(self, x, y, s, c, marker, cmap, norm, vmin, vmax, alpha, linewidths, edgecolors, plotnonfinite, **kwargs)\u001b[0m\n\u001b[1;32m   4367\u001b[0m y \u001b[38;5;241m=\u001b[39m np\u001b[38;5;241m.\u001b[39mma\u001b[38;5;241m.\u001b[39mravel(y)\n\u001b[1;32m   4368\u001b[0m \u001b[38;5;28;01mif\u001b[39;00m x\u001b[38;5;241m.\u001b[39msize \u001b[38;5;241m!=\u001b[39m y\u001b[38;5;241m.\u001b[39msize:\n\u001b[0;32m-> 4369\u001b[0m     \u001b[38;5;28;01mraise\u001b[39;00m \u001b[38;5;167;01mValueError\u001b[39;00m(\u001b[38;5;124m\"\u001b[39m\u001b[38;5;124mx and y must be the same size\u001b[39m\u001b[38;5;124m\"\u001b[39m)\n\u001b[1;32m   4371\u001b[0m \u001b[38;5;28;01mif\u001b[39;00m s \u001b[38;5;129;01mis\u001b[39;00m \u001b[38;5;28;01mNone\u001b[39;00m:\n\u001b[1;32m   4372\u001b[0m     s \u001b[38;5;241m=\u001b[39m (\u001b[38;5;241m20\u001b[39m \u001b[38;5;28;01mif\u001b[39;00m rcParams[\u001b[38;5;124m'\u001b[39m\u001b[38;5;124m_internal.classic_mode\u001b[39m\u001b[38;5;124m'\u001b[39m] \u001b[38;5;28;01melse\u001b[39;00m\n\u001b[1;32m   4373\u001b[0m          rcParams[\u001b[38;5;124m'\u001b[39m\u001b[38;5;124mlines.markersize\u001b[39m\u001b[38;5;124m'\u001b[39m] \u001b[38;5;241m*\u001b[39m\u001b[38;5;241m*\u001b[39m \u001b[38;5;241m2.0\u001b[39m)\n",
      "\u001b[0;31mValueError\u001b[0m: x and y must be the same size"
     ]
    },
    {
     "data": {
      "image/png": "[encoded data removed]",
      "text/plain": [
       "<Figure size 432x288 with 1 Axes>"
      ]
     },
     "metadata": {
      "needs_background": "light"
     },
     "output_type": "display_data"
    }
   ],
   "source": [
    "plt.scatter(X, y, color='blue')\n",
    "\n",
    "X_plot = np.linspace(X.min(), X.max(), 100)\n",
    "X_plot_poly = poly_features.transform(X_plot.reshape(-1, 1))\n",
    "y_plot = model.predict(X_plot_poly)\n",
    "\n",
    "plt.plot(X_plot, y_plot, color='red')\n",
    "plt.xlabel('Unemployment Gap')\n",
    "plt.ylabel('Inflation')\n",
    "plt.title('Philips Curve (Polynomial Regression)')\n",
    "plt.show()\n"
   ]
  },
  {
   "cell_type": "markdown",
   "metadata": {},
   "source": [
    "The Polynomial Philips Curve takes a different shape because it trys to fit the extreme unemployment gap. "
   ]
  },
  {
   "cell_type": "markdown",
   "metadata": {},
   "source": [
    "# Gradient boosting"
   ]
  },
  {
   "cell_type": "markdown",
   "metadata": {},
   "source": [
    "Our Data set"
   ]
  },
  {
   "cell_type": "code",
   "execution_count": 23,
   "metadata": {
    "scrolled": true
   },
   "outputs": [
    {
     "data": {
      "text/html": [
       "<div>\n",
       "<style scoped>\n",
       "    .dataframe tbody tr th:only-of-type {\n",
       "        vertical-align: middle;\n",
       "    }\n",
       "\n",
       "    .dataframe tbody tr th {\n",
       "        vertical-align: top;\n",
       "    }\n",
       "\n",
       "    .dataframe thead th {\n",
       "        text-align: right;\n",
       "    }\n",
       "</style>\n",
       "<table border=\"1\" class=\"dataframe\">\n",
       "  <thead>\n",
       "    <tr style=\"text-align: right;\">\n",
       "      <th></th>\n",
       "      <th>expected_inflation</th>\n",
       "      <th>unemploy_rate</th>\n",
       "      <th>natural_rate_unemploy</th>\n",
       "      <th>FEDFUNDS</th>\n",
       "      <th>inflation_rate</th>\n",
       "      <th>expected_inflation_lagged</th>\n",
       "      <th>lagged_inflation</th>\n",
       "      <th>unemploy_gap</th>\n",
       "      <th>aug_inflation</th>\n",
       "    </tr>\n",
       "    <tr>\n",
       "      <th>DATE</th>\n",
       "      <th></th>\n",
       "      <th></th>\n",
       "      <th></th>\n",
       "      <th></th>\n",
       "      <th></th>\n",
       "      <th></th>\n",
       "      <th></th>\n",
       "      <th></th>\n",
       "      <th></th>\n",
       "    </tr>\n",
       "  </thead>\n",
       "  <tbody>\n",
       "    <tr>\n",
       "      <th>1979-02-28</th>\n",
       "      <td>9.3</td>\n",
       "      <td>5.9</td>\n",
       "      <td>6.235909</td>\n",
       "      <td>10.06</td>\n",
       "      <td>9.841270</td>\n",
       "      <td>6.4</td>\n",
       "      <td>9.250399</td>\n",
       "      <td>-0.335909</td>\n",
       "      <td>0.541270</td>\n",
       "    </tr>\n",
       "    <tr>\n",
       "      <th>1979-03-31</th>\n",
       "      <td>8.8</td>\n",
       "      <td>5.8</td>\n",
       "      <td>6.235909</td>\n",
       "      <td>10.09</td>\n",
       "      <td>10.252366</td>\n",
       "      <td>6.3</td>\n",
       "      <td>9.841270</td>\n",
       "      <td>-0.435909</td>\n",
       "      <td>1.452366</td>\n",
       "    </tr>\n",
       "    <tr>\n",
       "      <th>1979-04-30</th>\n",
       "      <td>9.7</td>\n",
       "      <td>5.8</td>\n",
       "      <td>6.232617</td>\n",
       "      <td>10.01</td>\n",
       "      <td>10.485133</td>\n",
       "      <td>6.7</td>\n",
       "      <td>10.252366</td>\n",
       "      <td>-0.432617</td>\n",
       "      <td>0.785133</td>\n",
       "    </tr>\n",
       "    <tr>\n",
       "      <th>1979-05-31</th>\n",
       "      <td>9.8</td>\n",
       "      <td>5.6</td>\n",
       "      <td>6.232617</td>\n",
       "      <td>10.24</td>\n",
       "      <td>10.697674</td>\n",
       "      <td>6.9</td>\n",
       "      <td>10.485133</td>\n",
       "      <td>-0.632617</td>\n",
       "      <td>0.897674</td>\n",
       "    </tr>\n",
       "    <tr>\n",
       "      <th>1979-06-30</th>\n",
       "      <td>9.9</td>\n",
       "      <td>5.7</td>\n",
       "      <td>6.232617</td>\n",
       "      <td>10.29</td>\n",
       "      <td>11.076923</td>\n",
       "      <td>6.5</td>\n",
       "      <td>10.697674</td>\n",
       "      <td>-0.532617</td>\n",
       "      <td>1.176923</td>\n",
       "    </tr>\n",
       "    <tr>\n",
       "      <th>...</th>\n",
       "      <td>...</td>\n",
       "      <td>...</td>\n",
       "      <td>...</td>\n",
       "      <td>...</td>\n",
       "      <td>...</td>\n",
       "      <td>...</td>\n",
       "      <td>...</td>\n",
       "      <td>...</td>\n",
       "      <td>...</td>\n",
       "    </tr>\n",
       "    <tr>\n",
       "      <th>2022-11-30</th>\n",
       "      <td>4.9</td>\n",
       "      <td>3.6</td>\n",
       "      <td>4.431760</td>\n",
       "      <td>3.78</td>\n",
       "      <td>7.135348</td>\n",
       "      <td>4.9</td>\n",
       "      <td>7.762493</td>\n",
       "      <td>-0.831760</td>\n",
       "      <td>2.235348</td>\n",
       "    </tr>\n",
       "    <tr>\n",
       "      <th>2022-12-31</th>\n",
       "      <td>4.4</td>\n",
       "      <td>3.5</td>\n",
       "      <td>4.431760</td>\n",
       "      <td>4.10</td>\n",
       "      <td>6.444940</td>\n",
       "      <td>4.8</td>\n",
       "      <td>7.135348</td>\n",
       "      <td>-0.931760</td>\n",
       "      <td>2.044940</td>\n",
       "    </tr>\n",
       "    <tr>\n",
       "      <th>2023-01-31</th>\n",
       "      <td>3.9</td>\n",
       "      <td>3.4</td>\n",
       "      <td>4.428064</td>\n",
       "      <td>4.33</td>\n",
       "      <td>6.347156</td>\n",
       "      <td>4.9</td>\n",
       "      <td>6.444940</td>\n",
       "      <td>-1.028064</td>\n",
       "      <td>2.447156</td>\n",
       "    </tr>\n",
       "    <tr>\n",
       "      <th>2023-02-28</th>\n",
       "      <td>4.1</td>\n",
       "      <td>3.6</td>\n",
       "      <td>4.428064</td>\n",
       "      <td>4.57</td>\n",
       "      <td>5.986438</td>\n",
       "      <td>4.9</td>\n",
       "      <td>6.347156</td>\n",
       "      <td>-0.828064</td>\n",
       "      <td>1.886438</td>\n",
       "    </tr>\n",
       "    <tr>\n",
       "      <th>2023-03-31</th>\n",
       "      <td>3.6</td>\n",
       "      <td>3.5</td>\n",
       "      <td>4.428064</td>\n",
       "      <td>4.65</td>\n",
       "      <td>4.986920</td>\n",
       "      <td>5.4</td>\n",
       "      <td>5.986438</td>\n",
       "      <td>-0.928064</td>\n",
       "      <td>1.386920</td>\n",
       "    </tr>\n",
       "  </tbody>\n",
       "</table>\n",
       "<p>530 rows × 9 columns</p>\n",
       "</div>"
      ],
      "text/plain": [
       "            expected_inflation  unemploy_rate  natural_rate_unemploy  \\\n",
       "DATE                                                                   \n",
       "1979-02-28                 9.3            5.9               6.235909   \n",
       "1979-03-31                 8.8            5.8               6.235909   \n",
       "1979-04-30                 9.7            5.8               6.232617   \n",
       "1979-05-31                 9.8            5.6               6.232617   \n",
       "1979-06-30                 9.9            5.7               6.232617   \n",
       "...                        ...            ...                    ...   \n",
       "2022-11-30                 4.9            3.6               4.431760   \n",
       "2022-12-31                 4.4            3.5               4.431760   \n",
       "2023-01-31                 3.9            3.4               4.428064   \n",
       "2023-02-28                 4.1            3.6               4.428064   \n",
       "2023-03-31                 3.6            3.5               4.428064   \n",
       "\n",
       "            FEDFUNDS  inflation_rate  expected_inflation_lagged  \\\n",
       "DATE                                                              \n",
       "1979-02-28     10.06        9.841270                        6.4   \n",
       "1979-03-31     10.09       10.252366                        6.3   \n",
       "1979-04-30     10.01       10.485133                        6.7   \n",
       "1979-05-31     10.24       10.697674                        6.9   \n",
       "1979-06-30     10.29       11.076923                        6.5   \n",
       "...              ...             ...                        ...   \n",
       "2022-11-30      3.78        7.135348                        4.9   \n",
       "2022-12-31      4.10        6.444940                        4.8   \n",
       "2023-01-31      4.33        6.347156                        4.9   \n",
       "2023-02-28      4.57        5.986438                        4.9   \n",
       "2023-03-31      4.65        4.986920                        5.4   \n",
       "\n",
       "            lagged_inflation  unemploy_gap  aug_inflation  \n",
       "DATE                                                       \n",
       "1979-02-28          9.250399     -0.335909       0.541270  \n",
       "1979-03-31          9.841270     -0.435909       1.452366  \n",
       "1979-04-30         10.252366     -0.432617       0.785133  \n",
       "1979-05-31         10.485133     -0.632617       0.897674  \n",
       "1979-06-30         10.697674     -0.532617       1.176923  \n",
       "...                      ...           ...            ...  \n",
       "2022-11-30          7.762493     -0.831760       2.235348  \n",
       "2022-12-31          7.135348     -0.931760       2.044940  \n",
       "2023-01-31          6.444940     -1.028064       2.447156  \n",
       "2023-02-28          6.347156     -0.828064       1.886438  \n",
       "2023-03-31          5.986438     -0.928064       1.386920  \n",
       "\n",
       "[530 rows x 9 columns]"
      ]
     },
     "execution_count": 23,
     "metadata": {},
     "output_type": "execute_result"
    }
   ],
   "source": [
    "data"
   ]
  },
  {
   "cell_type": "markdown",
   "metadata": {},
   "source": [
    "We will lagg all variables. We do this to be able to realisticaly predict the inflation rate. We want to use data from period t-1 to predict inflation rate in period t. Therefore, we will only use features that are lagged to predict future values of the inflation rate. (our data is monthly, so we shift 12 to shift a year) \n",
    "\n",
    "We use data today, to predict next years inflation"
   ]
  },
  {
   "cell_type": "code",
   "execution_count": 30,
   "metadata": {},
   "outputs": [],
   "source": [
    "X = data.drop('lagged_inflation', axis = 1).shift(12)\n",
    "X = X.dropna()\n",
    "y = data['inflation_rate']\n",
    "y = y[X.index]"
   ]
  },
  {
   "cell_type": "markdown",
   "metadata": {},
   "source": [
    "The above can be interpreted from a log-log model, where the coefficient for the unemployment gap is 0.03, which means that when the unemployment gap increases by 1 percentage point, the inflation gap will increase by 3 percentage points. The coefficient for the interest rate means that when the interest rate increases by 1 percentage point, the inflation gap will increase by 24 percentage points. "
   ]
  },
  {
   "cell_type": "markdown",
   "metadata": {},
   "source": [
    "Making sure the inflation rate in X is not the same as in y. (Remember, we use lagged inflation in X. We will rename it for convenience. "
   ]
  },
  {
   "cell_type": "code",
   "execution_count": 31,
   "metadata": {},
   "outputs": [
    {
     "data": {
      "text/plain": [
       "True"
      ]
     },
     "execution_count": 31,
     "metadata": {},
     "output_type": "execute_result"
    }
   ],
   "source": [
    "X['inflation_rate'][0] != y[0]"
   ]
  },
  {
   "cell_type": "code",
   "execution_count": 32,
   "metadata": {},
   "outputs": [],
   "source": [
    "X.rename(columns={'inflation_rate': 'lag_inflation'}, inplace=True)\n"
   ]
  },
  {
   "cell_type": "markdown",
   "metadata": {},
   "source": [
    "We will also drop the unemployment rate, the natural rate of unemployment and the aug_inflation. The unemployment rate and natural rate is already included as unemploy gap. Aug_inflation is also a combination of different features. We will just drop it for convenience. "
   ]
  },
  {
   "cell_type": "code",
   "execution_count": 33,
   "metadata": {},
   "outputs": [],
   "source": [
    "X = X.drop([\"natural_rate_unemploy\", 'aug_inflation', 'unemploy_rate', 'expected_inflation_lagged'], axis = 1)"
   ]
  },
  {
   "cell_type": "markdown",
   "metadata": {},
   "source": [
    "We will conduct a grid search to fine tune our model. "
   ]
  },
  {
   "cell_type": "code",
   "execution_count": 36,
   "metadata": {},
   "outputs": [],
   "source": [
    "param_grid = {\n",
    "    'learning_rate': [0.2, 0.1, 0.05, 0.02, 0.01, 0.005]\n",
    "}\n",
    "gbc = GradientBoostingRegressor(n_estimators=100)"
   ]
  },
  {
   "cell_type": "markdown",
   "metadata": {},
   "source": [
    "We will use a k-fold split. This ensures our results are not dependent on the initial split. Our data set is not the largest, and therefore, we deem it preferable to use a k-fold split. "
   ]
  },
  {
   "cell_type": "markdown",
   "metadata": {},
   "source": [
    "We will also have a hold-out set, which we will evaluate our model on. "
   ]
  },
  {
   "cell_type": "code",
   "execution_count": 37,
   "metadata": {},
   "outputs": [],
   "source": [
    "X_train_val, X_test, y_train_val, y_test = train_test_split(X, y, test_size=0.2, random_state=42)"
   ]
  },
  {
   "cell_type": "code",
   "execution_count": 38,
   "metadata": {},
   "outputs": [],
   "source": [
    "kfold = KFold(n_splits=10, shuffle=True, random_state=42) # 10-fold cross-validation\n",
    "grid_search = GridSearchCV(gbc, param_grid, cv=kfold, scoring='neg_mean_squared_error')\n"
   ]
  },
  {
   "cell_type": "markdown",
   "metadata": {},
   "source": [
    "We initialize the model (note: if it takes forever. Adjust the n_estimators, and/or the param_grid)"
   ]
  },
  {
   "cell_type": "code",
   "execution_count": 39,
   "metadata": {
    "scrolled": false
   },
   "outputs": [
    {
     "data": {
      "text/plain": [
       "GridSearchCV(cv=KFold(n_splits=10, random_state=42, shuffle=True),\n",
       "             estimator=GradientBoostingRegressor(),\n",
       "             param_grid={'learning_rate': [0.2, 0.1, 0.05, 0.02, 0.01, 0.005]},\n",
       "             scoring='neg_mean_squared_error')"
      ]
     },
     "execution_count": 39,
     "metadata": {},
     "output_type": "execute_result"
    }
   ],
   "source": [
    "grid_search.fit(X_train_val, y_train_val)"
   ]
  },
  {
   "cell_type": "markdown",
   "metadata": {},
   "source": [
    "The results from our model"
   ]
  },
  {
   "cell_type": "code",
   "execution_count": 40,
   "metadata": {},
   "outputs": [
    {
     "name": "stdout",
     "output_type": "stream",
     "text": [
      "Test set evaluation:\n",
      "MSE:  1.860268358450487\n",
      "RMSE:  1.3639165511315152\n",
      "MAE:  0.8566664324096837\n",
      "R2:  0.8073230013620817\n"
     ]
    }
   ],
   "source": [
    "y_pred = grid_search.best_estimator_.predict(X_test)\n",
    "\n",
    "\n",
    "#  Evaluation metrics on the test set\n",
    "mse = mean_squared_error(y_test, y_pred)\n",
    "rmse = np.sqrt(mse)\n",
    "mae = mean_absolute_error(y_test, y_pred)\n",
    "r2 = r2_score(y_test, y_pred)\n",
    "\n",
    "print('Test set evaluation:')\n",
    "print('MSE: ', mse)\n",
    "print('RMSE: ', rmse)\n",
    "print('MAE: ', mae)\n",
    "print('R2: ', r2)"
   ]
  },
  {
   "cell_type": "code",
   "execution_count": 41,
   "metadata": {},
   "outputs": [],
   "source": [
    "from sklearn.metrics import mean_squared_error, mean_absolute_error, r2_score"
   ]
  },
  {
   "cell_type": "markdown",
   "metadata": {},
   "source": [
    "#### Lets compare the model, with a really naive one. We will try to predict the inflation from only lagged inflation. Lets see, if the results match the advanced algoritm from our gradient boosting model."
   ]
  },
  {
   "cell_type": "code",
   "execution_count": 42,
   "metadata": {},
   "outputs": [
    {
     "data": {
      "text/plain": [
       "DATE\n",
       "1980-02-29    14.161850\n",
       "1980-03-31    14.592275\n",
       "1980-04-30    14.589235\n",
       "1980-05-31    14.425770\n",
       "1980-06-30    14.265928\n",
       "                ...    \n",
       "2022-11-30     7.135348\n",
       "2022-12-31     6.444940\n",
       "2023-01-31     6.347156\n",
       "2023-02-28     5.986438\n",
       "2023-03-31     4.986920\n",
       "Freq: M, Name: inflation_rate, Length: 518, dtype: float64"
      ]
     },
     "execution_count": 42,
     "metadata": {},
     "output_type": "execute_result"
    }
   ],
   "source": [
    "y"
   ]
  },
  {
   "cell_type": "code",
   "execution_count": 43,
   "metadata": {
    "scrolled": true
   },
   "outputs": [
    {
     "name": "stdout",
     "output_type": "stream",
     "text": [
      "Linear regression model test set evaluation:\n",
      "MSE:  4.539329095386475\n",
      "RMSE:  2.1305701338811813\n",
      "MAE:  1.5001157098150537\n",
      "R2:  0.2506083291654455\n"
     ]
    }
   ],
   "source": [
    "y_lagged = y.shift(12)\n",
    "y_lagged = y_lagged.dropna()\n",
    "\n",
    "y_new = y[y_lagged.index]\n",
    "\n",
    "# Split the lagged target variable into a train+validation set and a test set\n",
    "y_train_val, y_test, y_lagged_train_val, y_lagged_test = train_test_split(y_new, y_lagged, test_size=0.2, random_state= 42, shuffle=False)# Use the lagged target variable as the\n",
    "# Reshape the data to the format expected by scikit-learn\n",
    "y_lagged_train_val_reshaped = y_lagged_train_val.values.reshape(-1, 1)\n",
    "y_lagged_test_reshaped = y_lagged_test.values.reshape(-1, 1)\n",
    "\n",
    "# Create and fit the linear regression model\n",
    "lr = LinearRegression()\n",
    "lr.fit(y_lagged_train_val_reshaped, y_train_val)\n",
    "\n",
    "# Make predictions on the test set\n",
    "y_pred_lr = lr.predict(y_lagged_test_reshaped)\n",
    "\n",
    "# Compute the evaluation metrics for the linear regression model\n",
    "mse_lr = mean_squared_error(y_test, y_pred_lr)\n",
    "rmse_lr = np.sqrt(mse_lr)\n",
    "mae_lr = mean_absolute_error(y_test, y_pred_lr)\n",
    "r2_lr = r2_score(y_test, y_pred_lr)\n",
    "\n",
    "print('Linear regression model test set evaluation:')\n",
    "print('MSE: ', mse_lr)\n",
    "print('RMSE: ', rmse_lr)\n",
    "print('MAE: ', mae_lr)\n",
    "print('R2: ', r2_lr)"
   ]
  },
  {
   "cell_type": "markdown",
   "metadata": {},
   "source": [
    "## Wrap up (CONCLUSION)"
   ]
  },
  {
   "cell_type": "markdown",
   "metadata": {},
   "source": [
    "Based on the evaluation metrics, our Gradient Boosting model has clearly outperformed the simple linear regression model in predicting the inflation rate.\n",
    "\n",
    "The MSE, RMSE, and MAE are all lower for the Gradient Boosting model, indicating that its predictions are, on average, closer to the true values. Moreover, the R2 score, which explains the proportion of the variance in the dependent variable that is predictable from the independent variable(s), is much higher for the Gradient Boosting model, indicating that it explains more of the variance in your data.\n",
    "\n",
    "However, while it's tempting to conclude that the Gradient Boosting model is superior based on these results, there are a few important considerations to keep in mind:\n",
    "\n",
    "    Overfitting: Gradient Boosting, being a more complex model, is more prone to overfitting compared to a simple linear regression model. Although we've taken care to validate our model using k-fold cross-validation, it's still possible that the model may not generalize well to new data. It is always recommended to test the model on new, unseen data to ensure its robustness.\n",
    "\n",
    "    Interpretability: The Gradient Boosting model, like many machine learning models, is less interpretable than a simple linear regression model. While the linear regression model allows us to directly interpret the relationship between the predictors and the target variable, interpreting a Gradient Boosting model is much more complex and often requires additional tools or methods.\n",
    "\n",
    "    Computational Complexity: Gradient Boosting models are more computationally intensive than linear regression models. This may not be a problem with our current dataset, but for larger datasets, training and prediction times could become an issue.\n",
    "\n",
    "    Robustness to Changes: Machine learning models, including Gradient Boosting, often rely on the underlying distribution of the data remaining stable over time. If the process generating our data changes, the model may become less accurate. On the other hand, simpler models like linear regression can sometimes be more robust to such changes.\n",
    "\n",
    "In conclusion, while our Gradient Boosting model has shown superior performance on our current dataset, it's important to consider these factors before deciding on the final model. One should continue monitoring the performance of the model on new data, and consider other aspects such as interpretability and computational complexity in addition to predictive accuracy."
   ]
  },
  {
   "cell_type": "markdown",
   "metadata": {},
   "source": [
    "## Additionally (Scipy)\n"
   ]
  },
  {
   "cell_type": "markdown",
   "metadata": {},
   "source": [
    "### scipy.optimize.minimize"
   ]
  },
  {
   "cell_type": "code",
   "execution_count": 44,
   "metadata": {},
   "outputs": [
    {
     "name": "stdout",
     "output_type": "stream",
     "text": [
      "Optimal a: 0.16382885630379992\n",
      "Optimal b: -0.21011015730789573\n"
     ]
    }
   ],
   "source": [
    "import numpy as np\n",
    "from scipy.optimize import minimize\n",
    "\n",
    "# Define the objective function\n",
    "def objective(params, X, y):\n",
    "    a, b = params\n",
    "    y_pred = a + b * X\n",
    "    return np.sum((y - y_pred)**2)\n",
    "\n",
    "# Set the initial guess for the parameters\n",
    "initial_guess = [0, 0]\n",
    "\n",
    "# Extract the relevant variables from your data\n",
    "X = data['unemploy_gap'].values\n",
    "y = data['aug_inflation'].values\n",
    "\n",
    "# Minimize the objective function\n",
    "result = minimize(objective, initial_guess, args=(X, y))\n",
    "\n",
    "# Extract the optimal parameter values\n",
    "a_optimal, b_optimal = result.x\n",
    "\n",
    "# Print the results\n",
    "print(f\"Optimal a: {a_optimal}\")\n",
    "print(f\"Optimal b: {b_optimal}\")\n"
   ]
  },
  {
   "cell_type": "markdown",
   "metadata": {},
   "source": [
    "That means, when the unemployment gap increases with one 1 percentage point, our aug_inflation decreases with 0,21 percentage point. Remember, the aug_inflation is the difference between actual inflation and expected inflation"
   ]
  }
 ],
 "metadata": {
  "kernelspec": {
   "display_name": "Python 3 (ipykernel)",
   "language": "python",
   "name": "python3"
  },
  "language_info": {
   "codemirror_mode": {
    "name": "ipython",
    "version": 3
   },
   "file_extension": ".py",
   "mimetype": "text/x-python",
   "name": "python",
   "nbconvert_exporter": "python",
   "pygments_lexer": "ipython3",
   "version": "3.9.12"
  },
  "toc-autonumbering": true,
  "vscode": {
   "interpreter": {
    "hash": "47ef90cdf3004d3f859f1fb202523c65c07ba7c22eefd261b181f4744e2d0403"
   }
  }
 },
 "nbformat": 4,
 "nbformat_minor": 4
}
