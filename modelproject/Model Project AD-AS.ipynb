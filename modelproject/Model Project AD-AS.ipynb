{
 "cells": [
  {
   "cell_type": "code",
   "execution_count": 1,
   "id": "1182e579",
   "metadata": {},
   "outputs": [],
   "source": [
    "import numpy as np\n",
    "from scipy import optimize\n",
    "import sympy as sm\n",
    "import matplotlib.pyplot as plt\n",
    "from ipywidgets import interact, FloatSlider\n",
    "import my_model\n",
    "%load_ext autoreload\n",
    "%autoreload 2"
   ]
  },
  {
   "cell_type": "code",
   "execution_count": 2,
   "id": "f023f927",
   "metadata": {},
   "outputs": [],
   "source": [
    "#Updating settings\n",
    "plt.rcParams.update({\"axes.grid\": True, \"grid.color\": \"black\", \"grid.alpha\": \"0.25\", \"grid.linestyle\": \"--\"})\n",
    "plt.rcParams.update({'font.size': 14})\n"
   ]
  },
  {
   "cell_type": "markdown",
   "id": "bd627098",
   "metadata": {},
   "source": [
    "# Model Description"
   ]
  },
  {
   "cell_type": "markdown",
   "id": "4664a459",
   "metadata": {},
   "source": [
    "The objective of this model analysis project is to demonstrate proficiency in applying numerical model analysis methods, structuring a code project, documenting code, and presenting results in text form and figures. The project involves analyzing an economic model, solving it using optimization routines or equation solvers, simulating the model, visualizing the solution across different parameterizations, and analyzing one or more extensions of the baseline model.\n",
    "\n",
    "In this project, we have chosen to work with the AD-AS (Aggregate Demand-Aggregate Supply) model, which is a fundamental model in macroeconomics. The AD-AS model provides insights into the relationship between output (real GDP) and inflation in an economy.\n",
    "\n",
    "To solve the AD-AS model, we have utilized numerical methods implemented in Python. The code is structured in a self-contained notebook (.ipynb) format, accompanied by fully documented Python files (.py). \n",
    "\n",
    "The main steps of the analysis are as follows:\n",
    "\n",
    "Algorithm Description: We describe the algorithm used to solve the economic model, explaining the equations and relationships involved.\n",
    "Solving the Model: We employ numerical optimization and equation solving techniques to find the equilibrium solutions of the AD-AS model. This involves determining the steady-state equation, converting it into a function, and solving for the equilibrium output level.\n",
    "Visualization of Solutions: We plot the AD and AS curves, showcasing the relationship between output and inflation. The interactive plot allows us to adjust the shocks and observe the impact on the model.\n",
    "Extension of the Baseline Model: To further explore the model, we introduce an extension by incorporating a monetary policy rule known as the Taylor Rule. This allows us to analyze the effects of different monetary policy settings on equilibrium output and inflation.\n",
    "The limitations of the project include the minimal use of sympy, as the focus is primarily on numerical solutions. The emphasis is on quality rather than quantity, ensuring a well-tested model with effective visualization and simulation.\n",
    "\n",
    "In conclusion, this project demonstrates the application of numerical model analysis methods to the AD-AS model, showcasing the impact of different parameterizations and monetary policy settings on equilibrium output and inflation. Through proper code structuring, documentation, and visualization, the project presents a comprehensive analysis of the model, fulfilling the objectives outlined in the assignment description."
   ]
  },
  {
   "cell_type": "markdown",
   "id": "6427fb10",
   "metadata": {},
   "source": [
    "# Numerical Solution of the AD-AS model"
   ]
  },
  {
   "cell_type": "code",
   "execution_count": 3,
   "id": "e4fec71a",
   "metadata": {},
   "outputs": [],
   "source": [
    "# Define symbols\n",
    "y, pi, g, b, alpha1, alpha2, h, s, y_bar, pi_star = sm.symbols('y pi g b alpha1 alpha2 h s y_bar pi_star')\n",
    "z = alpha1 / (1 + alpha2 * b) * (g - y_bar)\n",
    "alpha = alpha2 * h / (1 + alpha2 * b)\n",
    "AD = y - y_bar - alpha * (pi - pi_star) - z\n",
    "\n",
    "gamma = sm.symbols('gamma')\n",
    "AS = pi - pi_star + gamma * (y - y_bar) + s\n"
   ]
  },
  {
   "cell_type": "code",
   "execution_count": 4,
   "id": "a14a59f3",
   "metadata": {},
   "outputs": [],
   "source": [
    "# Solve steady state equation\n",
    "steady_state_eq = sm.solve(sm.Eq(AD, AS), y)[0]\n"
   ]
  },
  {
   "cell_type": "code",
   "execution_count": 5,
   "id": "9f863631",
   "metadata": {},
   "outputs": [],
   "source": [
    "# Convert equation to a function\n",
    "ss_func = sm.lambdify((pi, g, b, alpha1, alpha2, h, s, y_bar, pi_star, gamma), steady_state_eq)"
   ]
  },
  {
   "cell_type": "code",
   "execution_count": 6,
   "id": "e2421e4c",
   "metadata": {},
   "outputs": [],
   "source": [
    "# Define AD curve function\n",
    "def ad(y, pi, pi_star, alpha, alpha_1, alpha_2, b, g, g_bar, h):\n",
    "    z = alpha_1 / (1 + alpha_2 * b) * (g - g_bar)\n",
    "    return y - y_bar - z + alpha * (pi - pi_star)\n",
    "\n",
    "# Define AS curve function\n",
    "def as_curve(y, pi, pi_1, gamma, s):\n",
    "    return pi - pi_1 - gamma * (y - y_bar) - s"
   ]
  },
  {
   "cell_type": "code",
   "execution_count": 7,
   "id": "1a96ad02",
   "metadata": {},
   "outputs": [],
   "source": [
    "# Set parameter values\n",
    "y_bar = 100  # Steady-state output level\n",
    "pi_star = 2  # Steady-state inflation rate\n",
    "alpha_1 = 1  # Coefficient determining the effect of government spending on output\n",
    "alpha_2 = 1  # Coefficient determining the sensitivity of output to inflation\n",
    "b = 1  # Parameter representing a fixed input-output ratio\n",
    "g = 1  # Government spending\n",
    "g_bar = 1  # Steady-state government spending\n",
    "h = 1  # Parameter determining the effect of output on inflation in the AS curve\n",
    "\n",
    "alpha = alpha_2 * h / (1 + alpha_2 * b)\n",
    "gamma = 0.5"
   ]
  },
  {
   "cell_type": "code",
   "execution_count": 8,
   "id": "a1a234c5",
   "metadata": {},
   "outputs": [
    {
     "data": {
      "application/vnd.jupyter.widget-view+json": {
       "model_id": "d62a526a74ba4c4799c89d27f39f431a",
       "version_major": 2,
       "version_minor": 0
      },
      "text/plain": [
       "interactive(children=(FloatSlider(value=0.0, description='s', max=5.0, min=-5.0), Output()), _dom_classes=('wi…"
      ]
     },
     "metadata": {},
     "output_type": "display_data"
    }
   ],
   "source": [
    "# Plot AD and AS curves\n",
    "def plot_ad_as(s):\n",
    "    y_range = np.linspace(y_bar - 10, y_bar + 10, 100)\n",
    "    ad_curve_values = ad(y_range, pi_star, pi_star, alpha, alpha_1, alpha_2, b, g, g_bar, h)\n",
    "    as_curve_0 = as_curve(y_range, pi_star, pi_star, gamma, 0)\n",
    "    as_curve_1 = as_curve(y_range, pi_star, pi_star, gamma, s)\n",
    "    \n",
    "    plt.plot(y_range, ad_curve_values, label='AS')\n",
    "    plt.plot(y_range, as_curve_0, label='AD (s=0)', color='grey')\n",
    "    plt.plot(y_range, as_curve_1, label='AD (s={:.2f})'.format(s), color='red')\n",
    "\n",
    "    plt.xlabel('Output')\n",
    "    plt.ylabel('Inflation')\n",
    "    plt.legend()\n",
    "\n",
    "# Create interactive plot\n",
    "interact(plot_ad_as, s=FloatSlider(min=-5, max=5, step=0.1, value=0));\n"
   ]
  },
  {
   "cell_type": "code",
   "execution_count": 9,
   "id": "db2ebc33",
   "metadata": {},
   "outputs": [
    {
     "name": "stdout",
     "output_type": "stream",
     "text": [
      "The optimal parameter values that minimize the social loss are:\n",
      "pi: 0.02\n",
      "g: 0.03\n",
      "b: 0.5\n",
      "alpha1: 1.5\n",
      "alpha2: 1.0\n",
      "h: 0.5\n",
      "s: 0.0\n",
      "y_bar: 1.0\n",
      "pi_star: 0.02\n",
      "gamma: 0.5\n"
     ]
    }
   ],
   "source": [
    "# Set initial parameter values\n",
    "pi = 0.02\n",
    "g = 0.03\n",
    "b = 0.5\n",
    "alpha1 = 1.5\n",
    "alpha2 = 1\n",
    "h = 0.5\n",
    "s = 0\n",
    "y_bar = 1\n",
    "pi_star = 0.02\n",
    "gamma = 0.5\n",
    "\n",
    "# Define social loss function\n",
    "def social_loss(par, *args):\n",
    "    pi, g, b, alpha1, alpha2, h, s, y_bar, pi_star, gamma = args\n",
    "    y = ss_func(pi, g, b, alpha1, alpha2, h, s, y_bar, pi_star, gamma)\n",
    "    return (y_bar - y) ** 2 + (pi_star - pi) ** 2\n",
    "\n",
    "# Optimize social loss function\n",
    "optimal_par = optimize.minimize(social_loss, [pi, g, b, alpha1, alpha2, h, s, y_bar, pi_star, gamma],\n",
    "                                args=(pi, g, b, alpha1, alpha2, h, s, y_bar, pi_star, gamma), method='Nelder-Mead')\n",
    "\n",
    "# Extract the optimal parameter values\n",
    "optimal_parameters = optimal_par.x\n",
    "\n",
    "# Print optimal parameter values\n",
    "print(\"The optimal parameter values that minimize the social loss are:\")\n",
    "for parameter, value in zip([\"pi\", \"g\", \"b\", \"alpha1\", \"alpha2\", \"h\", \"s\", \"y_bar\", \"pi_star\", \"gamma\"], optimal_parameters):\n",
    "    print(f\"{parameter}: {value}\")\n"
   ]
  },
  {
   "cell_type": "markdown",
   "id": "52425635",
   "metadata": {},
   "source": [
    "# Further Analysis: Extension of the model "
   ]
  },
  {
   "cell_type": "markdown",
   "id": "bb797b8d",
   "metadata": {},
   "source": [
    "### Monetary Policy Rule"
   ]
  },
  {
   "cell_type": "markdown",
   "id": "ab853723",
   "metadata": {},
   "source": [
    "We introduce a monetary policy rule that governs the behavior of the central bank. This extension allows us to analyze the effects of monetary policy on the economy."
   ]
  },
  {
   "cell_type": "code",
   "execution_count": 10,
   "id": "be3d29df",
   "metadata": {},
   "outputs": [],
   "source": [
    "#We define a monetary policy rule that determines the nominal interest rate based on the inflation rate; The Taylor Rule\n",
    "def monetary_policy_rule(inflation, inflation_target, output_deviation, interest_rate_target):\n",
    "    return interest_rate_target + 0.5 * (inflation - inflation_target) + 0.5 * output_deviation\n"
   ]
  },
  {
   "cell_type": "code",
   "execution_count": 11,
   "id": "69337fca",
   "metadata": {},
   "outputs": [],
   "source": [
    "#We update the AD-curve to include the monetary rule\n",
    "def ad(y, pi, pi_star, alpha, alpha_1, alpha_2, b, g, g_bar, h, inflation_target, interest_rate_target):\n",
    "    z = alpha_1 / (1 + alpha_2 * b) * (g - g_bar)\n",
    "    output_deviation = y - y_bar\n",
    "    nominal_interest_rate = monetary_policy_rule(pi, inflation_target, output_deviation, interest_rate_target)\n",
    "    return y - y_bar - z + alpha * (pi - pi_star) + nominal_interest_rate"
   ]
  },
  {
   "cell_type": "code",
   "execution_count": 12,
   "id": "397d68ea",
   "metadata": {},
   "outputs": [
    {
     "data": {
      "application/vnd.jupyter.widget-view+json": {
       "model_id": "a3bb9d731bca45c3aabeafbaf0457c3f",
       "version_major": 2,
       "version_minor": 0
      },
      "text/plain": [
       "interactive(children=(FloatSlider(value=0.0, description='s', max=5.0, min=-5.0), FloatSlider(value=0.02, desc…"
      ]
     },
     "metadata": {},
     "output_type": "display_data"
    }
   ],
   "source": [
    "#We update the plot to include the inflation target and interest rate target as arguments:\n",
    "def plot_ad_as(s, inflation_target, interest_rate_target):\n",
    "    y_range = np.linspace(y_bar - 10, y_bar + 10, 100)\n",
    "    ad_curve = ad(y_range, pi_star, pi_star, alpha, alpha_1, alpha_2, b, g, g_bar, h, inflation_target, interest_rate_target)\n",
    "    as_curve_0 = as_curve(y_range, pi_star, pi_star, gamma, 0)\n",
    "    as_curve_1 = as_curve(y_range, pi_star, pi_star, gamma, s)\n",
    "    \n",
    "    plt.plot(y_range, ad_curve, label='AS')\n",
    "    plt.plot(y_range, as_curve_0, label='AD (s=0)', color='grey')\n",
    "    plt.plot(y_range, as_curve_1, label='AD (s={:.2f})'.format(s), color='red')\n",
    "\n",
    "    plt.xlabel('Output')\n",
    "    plt.ylabel('Inflation')\n",
    "    plt.legend()\n",
    "\n",
    "#The interact function allows us to create an interactive plot that allows us to adjust the AD shocks, inflation target and interest rate target\n",
    "interact(plot_ad_as, s=FloatSlider(min=-5, max=5, step=0.1, value=0), inflation_target=FloatSlider(min=0.01, max=0.20, step=0.01, value=0.02), interest_rate_target=FloatSlider(min=0.01, max=0.20, step=0.01, value=0.03));\n"
   ]
  },
  {
   "cell_type": "markdown",
   "id": "bf86270c",
   "metadata": {},
   "source": [
    "**Interpretation of extension with a monetary policy rule**"
   ]
  },
  {
   "cell_type": "markdown",
   "id": "44ef27a2",
   "metadata": {},
   "source": [
    "By adjusting the inflation target, we can examine the impact of different inflation goals on the equilibrium output and inflation. Higher inflation targets are expected to lead to higher equilibrium inflation rates and potentially higher output levels, as the central bank seeks to stimulate economic activity. Conversely, lower inflation targets may result in lower equilibrium inflation rates and output levels, as the central bank aims for price stability.\n",
    "\n",
    "Similarly, adjusting the interest rate target allows us to analyze the influence of different monetary policy stances on the AD-AS model. Higher interest rate targets indicate a tighter monetary policy, which can dampen inflationary pressures and potentially lower output. Lower interest rate targets, on the other hand, signal an accommodative monetary policy that encourages borrowing and spending, potentially leading to higher inflation and output.\n",
    "\n",
    "Equilibrium Output:\n",
    "Higher inflation and lower interest rates lead to higher equilibrium output, while lower inflation and higher interest rates result in lower equilibrium output.\n",
    "\n",
    "Inflation Dynamics:\n",
    "Higher inflation targets and accommodative interest rate policies contribute to higher inflation, while lower targets and tighter policies can help maintain price stability with lower inflation rates.\n",
    "\n",
    "Trade-offs between inflation and output: Expansionary monetary policy measures aimed at boosting output and economic growth may come at the cost of higher inflation, while contractionary policies aimed at curbing inflation may result in lower output levels."
   ]
  },
  {
   "cell_type": "markdown",
   "id": "c26d5910",
   "metadata": {},
   "source": [
    "# Conclusion"
   ]
  },
  {
   "cell_type": "markdown",
   "id": "f40bd01d",
   "metadata": {},
   "source": [
    "In this code, we have implemented the AD-AS model and extended it to include a monetary policy rule, known as the Taylor Rule. The model is solved using numerical methods.\n",
    "\n",
    "We start by defining the AD and AS curves based on given equations. The steady-state equation is solved to determine the equilibrium output level. The AD and AS curves are then plotted, showing the relationship between output and inflation.\n",
    "\n",
    "Next, we introduce the monetary policy rule, which determines the nominal interest rate based on the inflation rate. The AD curve is updated to incorporate the monetary rule, considering the inflation target and interest rate target as additional arguments. We plot the updated AD and AS curves, allowing us to analyze the effects of different monetary policy settings on the model.\n",
    "\n",
    "To further analyze the model, we define a social loss function and optimize it to find the parameter values that minimize the social loss. This optimization process is carried out using the Nelder-Mead method.\n",
    "\n",
    "The conclusion from this model analysis is that changes in inflation targets and interest rate targets have significant effects on equilibrium output and inflation. Higher inflation targets and accommodative interest rate policies tend to increase output and inflation, while lower targets and tighter policies have the opposite effect. The model demonstrates the trade-offs between inflation and output and highlights the role of monetary policy in influencing macroeconomic outcomes.\n",
    "\n",
    "Overall, this model analysis provides insights into the impact of monetary policy rule on the dynamics of the AD-AS model and highlights the importance of understanding the effects of different policy settings on macroeconomic variables.\n",
    "\n",
    "\n",
    "\n"
   ]
  },
  {
   "cell_type": "code",
   "execution_count": null,
   "id": "b7904054",
   "metadata": {},
   "outputs": [],
   "source": []
  }
 ],
 "metadata": {
  "kernelspec": {
   "display_name": "Python 3 (ipykernel)",
   "language": "python",
   "name": "python3"
  },
  "language_info": {
   "codemirror_mode": {
    "name": "ipython",
    "version": 3
   },
   "file_extension": ".py",
   "mimetype": "text/x-python",
   "name": "python",
   "nbconvert_exporter": "python",
   "pygments_lexer": "ipython3",
   "version": "3.9.12"
  }
 },
 "nbformat": 4,
 "nbformat_minor": 5
}
